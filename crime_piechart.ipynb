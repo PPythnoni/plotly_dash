{
  "nbformat": 4,
  "nbformat_minor": 0,
  "metadata": {
    "kernelspec": {
      "display_name": "Python 3",
      "language": "python",
      "name": "python3"
    },
    "language_info": {
      "codemirror_mode": {
        "name": "ipython",
        "version": 3
      },
      "file_extension": ".py",
      "mimetype": "text/x-python",
      "name": "python",
      "nbconvert_exporter": "python",
      "pygments_lexer": "ipython3",
      "version": "3.7.9"
    },
    "colab": {
      "name": "crime_piechart.ipynb",
      "provenance": [],
      "include_colab_link": true
    }
  },
  "cells": [
    {
      "cell_type": "markdown",
      "metadata": {
        "id": "view-in-github",
        "colab_type": "text"
      },
      "source": [
        "<a href=\"https://colab.research.google.com/github/PPythnoni/plotly_dash/blob/main/crime_piechart.ipynb\" target=\"_parent\"><img src=\"https://colab.research.google.com/assets/colab-badge.svg\" alt=\"Open In Colab\"/></a>"
      ]
    },
    {
      "cell_type": "code",
      "metadata": {
        "id": "wmUCu5iCUIrt"
      },
      "source": [
        "import dash\n",
        "import dash_core_components as dcc\n",
        "import dash_html_components as html\n",
        "from dash.dependencies import Input, Output\n",
        "import plotly.graph_objs as go\n",
        "import pandas as pd\n",
        "import plotly.express as px\n",
        "import numpy as np\n",
        "df = pd.read_csv(\"crime_data.csv\")"
      ],
      "execution_count": null,
      "outputs": []
    },
    {
      "cell_type": "code",
      "metadata": {
        "id": "cE1idoVPUIr_",
        "outputId": "b08dc83f-63d3-45bc-b5a7-8a8f714f1eb6"
      },
      "source": [
        "df.head()"
      ],
      "execution_count": null,
      "outputs": [
        {
          "output_type": "execute_result",
          "data": {
            "text/html": [
              "<div>\n",
              "<style scoped>\n",
              "    .dataframe tbody tr th:only-of-type {\n",
              "        vertical-align: middle;\n",
              "    }\n",
              "\n",
              "    .dataframe tbody tr th {\n",
              "        vertical-align: top;\n",
              "    }\n",
              "\n",
              "    .dataframe thead th {\n",
              "        text-align: right;\n",
              "    }\n",
              "</style>\n",
              "<table border=\"1\" class=\"dataframe\">\n",
              "  <thead>\n",
              "    <tr style=\"text-align: right;\">\n",
              "      <th></th>\n",
              "      <th>CrimeDate</th>\n",
              "      <th>CrimeTime</th>\n",
              "      <th>CrimeCode</th>\n",
              "      <th>Location</th>\n",
              "      <th>Description</th>\n",
              "      <th>Inside/Outside</th>\n",
              "      <th>Weapon</th>\n",
              "      <th>Post</th>\n",
              "      <th>District</th>\n",
              "      <th>Neighborhood</th>\n",
              "      <th>Longitude</th>\n",
              "      <th>Latitude</th>\n",
              "      <th>Location 1</th>\n",
              "      <th>Premise</th>\n",
              "      <th>Total Incidents</th>\n",
              "    </tr>\n",
              "  </thead>\n",
              "  <tbody>\n",
              "    <tr>\n",
              "      <th>0</th>\n",
              "      <td>09/02/2017</td>\n",
              "      <td>23:30:00</td>\n",
              "      <td>3JK</td>\n",
              "      <td>4200 AUDREY AVE</td>\n",
              "      <td>ROBBERY - RESIDENCE</td>\n",
              "      <td>I</td>\n",
              "      <td>KNIFE</td>\n",
              "      <td>913.0</td>\n",
              "      <td>SOUTHERN</td>\n",
              "      <td>Brooklyn</td>\n",
              "      <td>-76.60541</td>\n",
              "      <td>39.22951</td>\n",
              "      <td>(39.2295100000, -76.6054100000)</td>\n",
              "      <td>ROW/TOWNHO</td>\n",
              "      <td>1</td>\n",
              "    </tr>\n",
              "    <tr>\n",
              "      <th>1</th>\n",
              "      <td>09/02/2017</td>\n",
              "      <td>23:00:00</td>\n",
              "      <td>7A</td>\n",
              "      <td>800 NEWINGTON AVE</td>\n",
              "      <td>AUTO THEFT</td>\n",
              "      <td>O</td>\n",
              "      <td>NaN</td>\n",
              "      <td>133.0</td>\n",
              "      <td>CENTRAL</td>\n",
              "      <td>Reservoir Hill</td>\n",
              "      <td>-76.63217</td>\n",
              "      <td>39.31360</td>\n",
              "      <td>(39.3136000000, -76.6321700000)</td>\n",
              "      <td>STREET</td>\n",
              "      <td>1</td>\n",
              "    </tr>\n",
              "    <tr>\n",
              "      <th>2</th>\n",
              "      <td>09/02/2017</td>\n",
              "      <td>22:53:00</td>\n",
              "      <td>9S</td>\n",
              "      <td>600 RADNOR AV</td>\n",
              "      <td>SHOOTING</td>\n",
              "      <td>Outside</td>\n",
              "      <td>FIREARM</td>\n",
              "      <td>524.0</td>\n",
              "      <td>NORTHERN</td>\n",
              "      <td>Winston-Govans</td>\n",
              "      <td>-76.60697</td>\n",
              "      <td>39.34768</td>\n",
              "      <td>(39.3476800000, -76.6069700000)</td>\n",
              "      <td>Street</td>\n",
              "      <td>1</td>\n",
              "    </tr>\n",
              "    <tr>\n",
              "      <th>3</th>\n",
              "      <td>09/02/2017</td>\n",
              "      <td>22:50:00</td>\n",
              "      <td>4C</td>\n",
              "      <td>1800 RAMSAY ST</td>\n",
              "      <td>AGG. ASSAULT</td>\n",
              "      <td>I</td>\n",
              "      <td>OTHER</td>\n",
              "      <td>934.0</td>\n",
              "      <td>SOUTHERN</td>\n",
              "      <td>Carrollton Ridge</td>\n",
              "      <td>-76.64526</td>\n",
              "      <td>39.28315</td>\n",
              "      <td>(39.2831500000, -76.6452600000)</td>\n",
              "      <td>ROW/TOWNHO</td>\n",
              "      <td>1</td>\n",
              "    </tr>\n",
              "    <tr>\n",
              "      <th>4</th>\n",
              "      <td>09/02/2017</td>\n",
              "      <td>22:31:00</td>\n",
              "      <td>4E</td>\n",
              "      <td>100 LIGHT ST</td>\n",
              "      <td>COMMON ASSAULT</td>\n",
              "      <td>O</td>\n",
              "      <td>HANDS</td>\n",
              "      <td>113.0</td>\n",
              "      <td>CENTRAL</td>\n",
              "      <td>Downtown West</td>\n",
              "      <td>-76.61365</td>\n",
              "      <td>39.28756</td>\n",
              "      <td>(39.2875600000, -76.6136500000)</td>\n",
              "      <td>STREET</td>\n",
              "      <td>1</td>\n",
              "    </tr>\n",
              "  </tbody>\n",
              "</table>\n",
              "</div>"
            ],
            "text/plain": [
              "    CrimeDate CrimeTime CrimeCode           Location          Description  \\\n",
              "0  09/02/2017  23:30:00       3JK    4200 AUDREY AVE  ROBBERY - RESIDENCE   \n",
              "1  09/02/2017  23:00:00        7A  800 NEWINGTON AVE           AUTO THEFT   \n",
              "2  09/02/2017  22:53:00        9S      600 RADNOR AV             SHOOTING   \n",
              "3  09/02/2017  22:50:00        4C     1800 RAMSAY ST         AGG. ASSAULT   \n",
              "4  09/02/2017  22:31:00        4E       100 LIGHT ST       COMMON ASSAULT   \n",
              "\n",
              "  Inside/Outside   Weapon   Post  District      Neighborhood  Longitude  \\\n",
              "0              I    KNIFE  913.0  SOUTHERN          Brooklyn  -76.60541   \n",
              "1              O      NaN  133.0   CENTRAL    Reservoir Hill  -76.63217   \n",
              "2        Outside  FIREARM  524.0  NORTHERN    Winston-Govans  -76.60697   \n",
              "3              I    OTHER  934.0  SOUTHERN  Carrollton Ridge  -76.64526   \n",
              "4              O    HANDS  113.0   CENTRAL     Downtown West  -76.61365   \n",
              "\n",
              "   Latitude                       Location 1     Premise  Total Incidents  \n",
              "0  39.22951  (39.2295100000, -76.6054100000)  ROW/TOWNHO                1  \n",
              "1  39.31360  (39.3136000000, -76.6321700000)      STREET                1  \n",
              "2  39.34768  (39.3476800000, -76.6069700000)      Street                1  \n",
              "3  39.28315  (39.2831500000, -76.6452600000)  ROW/TOWNHO                1  \n",
              "4  39.28756  (39.2875600000, -76.6136500000)      STREET                1  "
            ]
          },
          "metadata": {
            "tags": []
          },
          "execution_count": 22
        }
      ]
    },
    {
      "cell_type": "code",
      "metadata": {
        "id": "yIsDnLowUIsG",
        "outputId": "fc3e5b36-93d2-42bd-de90-684f44312d01"
      },
      "source": [
        "df.columns.to_list()"
      ],
      "execution_count": null,
      "outputs": [
        {
          "output_type": "execute_result",
          "data": {
            "text/plain": [
              "['CrimeDate',\n",
              " 'CrimeTime',\n",
              " 'CrimeCode',\n",
              " 'Location',\n",
              " 'Description',\n",
              " 'Inside/Outside',\n",
              " 'Weapon',\n",
              " 'Post',\n",
              " 'District',\n",
              " 'Neighborhood',\n",
              " 'Longitude',\n",
              " 'Latitude',\n",
              " 'Location 1',\n",
              " 'Premise',\n",
              " 'Total Incidents']"
            ]
          },
          "metadata": {
            "tags": []
          },
          "execution_count": 24
        }
      ]
    },
    {
      "cell_type": "code",
      "metadata": {
        "id": "COxZMdNfUIsH",
        "outputId": "06b42d2f-8e93-446c-8f2d-1a6f25154a09"
      },
      "source": [
        "df[\"Inside/Outside\"].value_counts()"
      ],
      "execution_count": null,
      "outputs": [
        {
          "output_type": "execute_result",
          "data": {
            "text/plain": [
              "Outside    133619\n",
              "Inside     132631\n",
              "Name: Inside/Outside, dtype: int64"
            ]
          },
          "metadata": {
            "tags": []
          },
          "execution_count": 26
        }
      ]
    },
    {
      "cell_type": "code",
      "metadata": {
        "id": "NLAPMnL8UIsI"
      },
      "source": [
        "df[\"Inside/Outside\"].replace(\"I\",\"Inside\",inplace=True)"
      ],
      "execution_count": null,
      "outputs": []
    },
    {
      "cell_type": "code",
      "metadata": {
        "id": "Mh0hDroAUIsK"
      },
      "source": [
        "df[\"Inside/Outside\"].replace(\"O\",\"Outside\",inplace=True)"
      ],
      "execution_count": null,
      "outputs": []
    },
    {
      "cell_type": "code",
      "metadata": {
        "id": "5m88Ez8PUIsM",
        "outputId": "1583316f-3cba-4434-817f-6e196a5069ca"
      },
      "source": [
        "df[\"Inside/Outside\"].value_counts()"
      ],
      "execution_count": null,
      "outputs": [
        {
          "output_type": "execute_result",
          "data": {
            "text/plain": [
              "Outside    133619\n",
              "Inside     132631\n",
              "Unknown     10279\n",
              "Name: Inside/Outside, dtype: int64"
            ]
          },
          "metadata": {
            "tags": []
          },
          "execution_count": 32
        }
      ]
    },
    {
      "cell_type": "code",
      "metadata": {
        "id": "vINPtaBpUIsN",
        "outputId": "12276830-4f65-4347-e340-bcc3b3b1280b"
      },
      "source": [
        "df.isnull().sum()"
      ],
      "execution_count": null,
      "outputs": [
        {
          "output_type": "execute_result",
          "data": {
            "text/plain": [
              "CrimeDate               0\n",
              "CrimeTime               0\n",
              "CrimeCode               0\n",
              "Location             2207\n",
              "Description             0\n",
              "Inside/Outside          0\n",
              "Weapon             180952\n",
              "Post                  224\n",
              "District               80\n",
              "Neighborhood         2740\n",
              "Longitude            2204\n",
              "Latitude             2204\n",
              "Location 1           2204\n",
              "Premise             10757\n",
              "Total Incidents         0\n",
              "dtype: int64"
            ]
          },
          "metadata": {
            "tags": []
          },
          "execution_count": 34
        }
      ]
    },
    {
      "cell_type": "code",
      "metadata": {
        "id": "NnSjQBN1UIsP"
      },
      "source": [
        "df[\"Inside/Outside\"].replace(np.nan,\"Unknown\",inplace=True)"
      ],
      "execution_count": null,
      "outputs": []
    },
    {
      "cell_type": "code",
      "metadata": {
        "id": "DWHPpBHNUIsQ",
        "outputId": "d939750b-e996-47e7-ea8f-333093d95313"
      },
      "source": [
        "df[\"Inside/Outside\"].value_counts()"
      ],
      "execution_count": null,
      "outputs": [
        {
          "output_type": "execute_result",
          "data": {
            "text/plain": [
              "Outside    133619\n",
              "Inside     132631\n",
              "Unknown     10279\n",
              "Name: Inside/Outside, dtype: int64"
            ]
          },
          "metadata": {
            "tags": []
          },
          "execution_count": 38
        }
      ]
    },
    {
      "cell_type": "code",
      "metadata": {
        "id": "JrKJliJbUIsT"
      },
      "source": [
        "df[\"Weapon\"].replace(np.nan,\"UNSPECIFIED\",inplace=True)"
      ],
      "execution_count": null,
      "outputs": []
    },
    {
      "cell_type": "code",
      "metadata": {
        "id": "FuBLIlRIUIsV",
        "outputId": "3509dd94-47ed-470d-c9d7-aef10e592bee"
      },
      "source": [
        "df.isnull().sum()"
      ],
      "execution_count": null,
      "outputs": [
        {
          "output_type": "execute_result",
          "data": {
            "text/plain": [
              "Description          0\n",
              "Inside/Outside       0\n",
              "Weapon               0\n",
              "District            80\n",
              "Neighborhood      2740\n",
              "dtype: int64"
            ]
          },
          "metadata": {
            "tags": []
          },
          "execution_count": 42
        }
      ]
    },
    {
      "cell_type": "code",
      "metadata": {
        "id": "Eal7vXVgUIsX",
        "outputId": "172d7fac-36d4-4c19-8ddc-081d6299c44b"
      },
      "source": [
        "df.columns"
      ],
      "execution_count": null,
      "outputs": [
        {
          "output_type": "execute_result",
          "data": {
            "text/plain": [
              "Index(['Description', 'Inside/Outside', 'Weapon', 'District', 'Neighborhood'], dtype='object')"
            ]
          },
          "metadata": {
            "tags": []
          },
          "execution_count": 44
        }
      ]
    },
    {
      "cell_type": "code",
      "metadata": {
        "id": "X7XZMTogUIsZ"
      },
      "source": [
        "df = df[[\"Description\",\"Inside/Outside\",\"Weapon\",\"District\",\"Neighborhood\"]]"
      ],
      "execution_count": null,
      "outputs": []
    },
    {
      "cell_type": "code",
      "metadata": {
        "id": "idB4t0V7UIsa"
      },
      "source": [
        "df.dropna(inplace=True)"
      ],
      "execution_count": null,
      "outputs": []
    },
    {
      "cell_type": "code",
      "metadata": {
        "id": "zYj2t3VkUIsa"
      },
      "source": [
        "app = dash.Dash()\n",
        "\n",
        "app.layout = html.Div([\n",
        "    html.Div([\n",
        "        html.Label(['Crime in Baltimore, Maryland']),\n",
        "        dcc.Dropdown(\n",
        "            id='my_dropdown_menu',\n",
        "            options=[\n",
        "                     {'label': 'Description', 'value': 'Description'},\n",
        "                     {'label': 'Inside/Outside', 'value': 'Inside/Outside'},\n",
        "                     {'label': 'Weapon', 'value': 'Weapon'},\n",
        "                     {'label': 'District', 'value': 'District'}\n",
        "            ],\n",
        "            value='Description', #initial value\n",
        "            multi=False, # only one value can be chosen\n",
        "            clearable=False, # always one value chosen\n",
        "            style={\"width\": \"50%\"}\n",
        "        ),\n",
        "    ]),\n",
        "\n",
        "    html.Div([\n",
        "        dcc.Graph(id='the_graph')\n",
        "    ]),\n",
        "\n",
        "]) #<----- layout closes here\n",
        "\n",
        "\n",
        "@app.callback(\n",
        "    Output(component_id='the_graph', component_property='figure'), #<---- what is sent to the graph\n",
        "    [Input(component_id='my_dropdown_menu', component_property='value')]  #<--- what the uses chooses\n",
        ")\n",
        "\n",
        "def update_graph(my_dropdown):  #<---- the input\n",
        "    dff = df #<--- df needs to be copied\n",
        "\n",
        "    piechart=px.pie(\n",
        "            data_frame=dff,\n",
        "            names=my_dropdown,\n",
        "            hole=.3,\n",
        "            )\n",
        "\n",
        "    return (piechart) #<--- returns the output apparently\n",
        "\n",
        "\n",
        "if __name__ == '__main__':\n",
        "    app.run_server()"
      ],
      "execution_count": null,
      "outputs": []
    },
    {
      "cell_type": "code",
      "metadata": {
        "id": "YXQNtd3sUIsc"
      },
      "source": [
        ""
      ],
      "execution_count": null,
      "outputs": []
    }
  ]
}