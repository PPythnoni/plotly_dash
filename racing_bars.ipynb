{
  "nbformat": 4,
  "nbformat_minor": 0,
  "metadata": {
    "kernelspec": {
      "display_name": "Python 3",
      "language": "python",
      "name": "python3"
    },
    "language_info": {
      "codemirror_mode": {
        "name": "ipython",
        "version": 3
      },
      "file_extension": ".py",
      "mimetype": "text/x-python",
      "name": "python",
      "nbconvert_exporter": "python",
      "pygments_lexer": "ipython3",
      "version": "3.7.9"
    },
    "colab": {
      "name": "racing_bars.ipynb",
      "provenance": [],
      "include_colab_link": true
    }
  },
  "cells": [
    {
      "cell_type": "markdown",
      "metadata": {
        "id": "view-in-github",
        "colab_type": "text"
      },
      "source": [
        "<a href=\"https://colab.research.google.com/github/PPythnoni/plotly_dash/blob/main/racing_bars.ipynb\" target=\"_parent\"><img src=\"https://colab.research.google.com/assets/colab-badge.svg\" alt=\"Open In Colab\"/></a>"
      ]
    },
    {
      "cell_type": "code",
      "metadata": {
        "id": "9tSeFsB-UZZH"
      },
      "source": [
        "import pandas as pd   \n",
        "import plotly          \n",
        "import plotly.io as pio\n",
        "import plotly.graph_objects as go\n",
        "\n",
        "import warnings\n",
        "warnings.filterwarnings(\"ignore\", category=FutureWarning)"
      ],
      "execution_count": null,
      "outputs": []
    },
    {
      "cell_type": "code",
      "metadata": {
        "id": "F4LO9BN9UZZY"
      },
      "source": [
        "df = pd.read_csv(\"life.csv\")"
      ],
      "execution_count": null,
      "outputs": []
    },
    {
      "cell_type": "code",
      "metadata": {
        "id": "NILl89GLUZZa"
      },
      "source": [
        "df.drop(columns=\"Unnamed: 0\",inplace=True)"
      ],
      "execution_count": null,
      "outputs": []
    },
    {
      "cell_type": "code",
      "metadata": {
        "id": "w4mc9-EiUZZb",
        "outputId": "7bb4562c-1290-48d0-a4e1-0c18cd2076ef"
      },
      "source": [
        "len(df[\"Year\"].unique())"
      ],
      "execution_count": null,
      "outputs": [
        {
          "output_type": "execute_result",
          "data": {
            "text/plain": [
              "16"
            ]
          },
          "metadata": {
            "tags": []
          },
          "execution_count": 46
        }
      ]
    },
    {
      "cell_type": "code",
      "metadata": {
        "id": "xSie2HPJUZZd",
        "outputId": "bff6f1bd-2a45-4e6e-d4b7-e5ceb5f04a90"
      },
      "source": [
        "df[\"Country\"].unique()"
      ],
      "execution_count": null,
      "outputs": [
        {
          "output_type": "execute_result",
          "data": {
            "text/plain": [
              "array(['Argentina', 'Bolivia (Plurinational State of)', 'Brazil', 'Chile',\n",
              "       'Colombia', 'Ecuador', 'Paraguay', 'Peru', 'Uruguay',\n",
              "       'Venezuela (Bolivarian Republic of)'], dtype=object)"
            ]
          },
          "metadata": {
            "tags": []
          },
          "execution_count": 47
        }
      ]
    },
    {
      "cell_type": "code",
      "metadata": {
        "id": "3aFfTAZHUZZe"
      },
      "source": [
        "dict_keys=['one','two','three','four','five','six','seven','eight','nine','ten','eleven','twelve','thirteen',\n",
        "           'fourteen','fifteen','sixteen']\n",
        "\n",
        "years=[2000,2001,2002,2003,2004,2005,2006,2007,2008,2009,2010,2011,2012,2013,2014,2015]"
      ],
      "execution_count": null,
      "outputs": []
    },
    {
      "cell_type": "code",
      "metadata": {
        "id": "bz6W8GeoUZZg",
        "outputId": "081dc4a2-8a7d-4aac-91cb-3c1532b3b311"
      },
      "source": [
        "n_frame={}\n",
        "\n",
        "for y, d in zip(years, dict_keys):\n",
        "    dataframe=df[(df['Year']==y)]\n",
        "    dataframe=dataframe.sort_values(by=['Year','Life expectancy'])\n",
        "\n",
        "    n_frame[d]=dataframe\n",
        "\n",
        "\n",
        "fig = go.Figure(\n",
        "    data=[\n",
        "        go.Bar(\n",
        "        x=n_frame['one']['Life expectancy'], y=n_frame['one']['Country'],orientation='h',\n",
        "        text=n_frame['one']['Life expectancy'],\n",
        "        textfont={'size':18}, textposition='inside', insidetextanchor='middle',\n",
        "        width=0.9, marker={'color':n_frame['one']['color']})\n",
        "    ],\n",
        "    layout=go.Layout(\n",
        "        xaxis=dict(range=[0, 60], autorange=False, title=dict(text='Life expectancy',font=dict(size=18))),\n",
        "        yaxis=dict(range=[-0.5, 5.5], autorange=False,tickfont=dict(size=14)),\n",
        "        title=dict(text='Life expectancy',font=dict(size=28),x=0.5,xanchor='center'),\n",
        "        # Add button\n",
        "        updatemenus=[dict(\n",
        "            type=\"buttons\",\n",
        "            buttons=[dict(label=\"Play\",\n",
        "                          method=\"animate\",\n",
        "                          args=[None,\n",
        "                          {\"frame\": {\"duration\": 1000, \"redraw\": True},\n",
        "                          \"transition\": {\"duration\":250,\n",
        "                          \"easing\": \"linear\"}}]\n",
        "            )]\n",
        "        )]\n",
        "    ),\n",
        "    frames=[\n",
        "            go.Frame(\n",
        "                data=[\n",
        "                        go.Bar(x=value['Life expectancy'], y=value['Country'],\n",
        "                        orientation='h',text=value['Life expectancy'],\n",
        "                        marker={'color':value['color']})\n",
        "                    ],\n",
        "                layout=go.Layout(\n",
        "                        xaxis=dict(range=[0, 90], autorange=False),\n",
        "                        yaxis=dict(range=[-0.5, 10], autorange=False,tickfont=dict(size=14)),\n",
        "                        title=dict(text='Life expectancy in South America in '+str(value['Year'].values[0]),\n",
        "                        font=dict(size=28))\n",
        "                    )\n",
        "            )\n",
        "        for key, value in n_frame.items()\n",
        "    ]\n",
        ")\n",
        "\n",
        "pio.show(fig)"
      ],
      "execution_count": null,
      "outputs": [
        {
          "output_type": "display_data",
          "data": {
            "application/vnd.plotly.v1+json": {
              "config": {
                "plotlyServerURL": "https://plot.ly"
              },
              "data": [
                {
                  "insidetextanchor": "middle",
                  "marker": {
                    "color": [
                      "#F4E400",
                      "#FCD116",
                      "#D91023",
                      "#cf142b",
                      "#034ea3",
                      "#74ACDF",
                      "#009c3b",
                      "#0038a8",
                      "#0039a6",
                      "#d62b1e"
                    ]
                  },
                  "orientation": "h",
                  "text": [
                    62.6,
                    71.4,
                    71.4,
                    72.5,
                    72.8,
                    74.1,
                    75,
                    75.1,
                    77.3,
                    79
                  ],
                  "textfont": {
                    "size": 18
                  },
                  "textposition": "inside",
                  "type": "bar",
                  "width": 0.9,
                  "x": [
                    62.6,
                    71.4,
                    71.4,
                    72.5,
                    72.8,
                    74.1,
                    75,
                    75.1,
                    77.3,
                    79
                  ],
                  "y": [
                    "Bolivia (Plurinational State of)",
                    "Colombia",
                    "Peru",
                    "Venezuela (Bolivarian Republic of)",
                    "Ecuador",
                    "Argentina",
                    "Brazil",
                    "Uruguay",
                    "Chile",
                    "Paraguay"
                  ]
                }
              ],
              "frames": [
                {
                  "data": [
                    {
                      "marker": {
                        "color": [
                          "#F4E400",
                          "#FCD116",
                          "#D91023",
                          "#cf142b",
                          "#034ea3",
                          "#74ACDF",
                          "#009c3b",
                          "#0038a8",
                          "#0039a6",
                          "#d62b1e"
                        ]
                      },
                      "orientation": "h",
                      "text": [
                        62.6,
                        71.4,
                        71.4,
                        72.5,
                        72.8,
                        74.1,
                        75,
                        75.1,
                        77.3,
                        79
                      ],
                      "type": "bar",
                      "x": [
                        62.6,
                        71.4,
                        71.4,
                        72.5,
                        72.8,
                        74.1,
                        75,
                        75.1,
                        77.3,
                        79
                      ],
                      "y": [
                        "Bolivia (Plurinational State of)",
                        "Colombia",
                        "Peru",
                        "Venezuela (Bolivarian Republic of)",
                        "Ecuador",
                        "Argentina",
                        "Brazil",
                        "Uruguay",
                        "Chile",
                        "Paraguay"
                      ]
                    }
                  ],
                  "layout": {
                    "title": {
                      "font": {
                        "size": 28
                      },
                      "text": "Life expectancy in South America in 2000"
                    },
                    "xaxis": {
                      "autorange": false,
                      "range": [
                        0,
                        90
                      ]
                    },
                    "yaxis": {
                      "autorange": false,
                      "range": [
                        -0.5,
                        10
                      ],
                      "tickfont": {
                        "size": 14
                      }
                    }
                  }
                },
                {
                  "data": [
                    {
                      "marker": {
                        "color": [
                          "#F4E400",
                          "#009c3b",
                          "#d62b1e",
                          "#FCD116",
                          "#D91023",
                          "#cf142b",
                          "#034ea3",
                          "#74ACDF",
                          "#0038a8",
                          "#0039a6"
                        ]
                      },
                      "orientation": "h",
                      "text": [
                        63.3,
                        71,
                        71.2,
                        71.5,
                        72.4,
                        72.5,
                        73.4,
                        74,
                        75.2,
                        77.3
                      ],
                      "type": "bar",
                      "x": [
                        63.3,
                        71,
                        71.2,
                        71.5,
                        72.4,
                        72.5,
                        73.4,
                        74,
                        75.2,
                        77.3
                      ],
                      "y": [
                        "Bolivia (Plurinational State of)",
                        "Brazil",
                        "Paraguay",
                        "Colombia",
                        "Peru",
                        "Venezuela (Bolivarian Republic of)",
                        "Ecuador",
                        "Argentina",
                        "Uruguay",
                        "Chile"
                      ]
                    }
                  ],
                  "layout": {
                    "title": {
                      "font": {
                        "size": 28
                      },
                      "text": "Life expectancy in South America in 2001"
                    },
                    "xaxis": {
                      "autorange": false,
                      "range": [
                        0,
                        90
                      ]
                    },
                    "yaxis": {
                      "autorange": false,
                      "range": [
                        -0.5,
                        10
                      ],
                      "tickfont": {
                        "size": 14
                      }
                    }
                  }
                },
                {
                  "data": [
                    {
                      "marker": {
                        "color": [
                          "#F4E400",
                          "#009c3b",
                          "#d62b1e",
                          "#FCD116",
                          "#D91023",
                          "#cf142b",
                          "#034ea3",
                          "#74ACDF",
                          "#0038a8",
                          "#0039a6"
                        ]
                      },
                      "orientation": "h",
                      "text": [
                        63.9,
                        71.4,
                        71.5,
                        71.8,
                        72.6,
                        73.1,
                        73.6,
                        74.1,
                        75.4,
                        77.8
                      ],
                      "type": "bar",
                      "x": [
                        63.9,
                        71.4,
                        71.5,
                        71.8,
                        72.6,
                        73.1,
                        73.6,
                        74.1,
                        75.4,
                        77.8
                      ],
                      "y": [
                        "Bolivia (Plurinational State of)",
                        "Brazil",
                        "Paraguay",
                        "Colombia",
                        "Peru",
                        "Venezuela (Bolivarian Republic of)",
                        "Ecuador",
                        "Argentina",
                        "Uruguay",
                        "Chile"
                      ]
                    }
                  ],
                  "layout": {
                    "title": {
                      "font": {
                        "size": 28
                      },
                      "text": "Life expectancy in South America in 2002"
                    },
                    "xaxis": {
                      "autorange": false,
                      "range": [
                        0,
                        90
                      ]
                    },
                    "yaxis": {
                      "autorange": false,
                      "range": [
                        -0.5,
                        10
                      ],
                      "tickfont": {
                        "size": 14
                      }
                    }
                  }
                },
                {
                  "data": [
                    {
                      "marker": {
                        "color": [
                          "#F4E400",
                          "#d62b1e",
                          "#009c3b",
                          "#D91023",
                          "#FCD116",
                          "#cf142b",
                          "#74ACDF",
                          "#034ea3",
                          "#0038a8",
                          "#0039a6"
                        ]
                      },
                      "orientation": "h",
                      "text": [
                        64.5,
                        71.7,
                        71.8,
                        72.1,
                        72.4,
                        72.4,
                        74.1,
                        74.4,
                        75.4,
                        77.9
                      ],
                      "type": "bar",
                      "x": [
                        64.5,
                        71.7,
                        71.8,
                        72.1,
                        72.4,
                        72.4,
                        74.1,
                        74.4,
                        75.4,
                        77.9
                      ],
                      "y": [
                        "Bolivia (Plurinational State of)",
                        "Paraguay",
                        "Brazil",
                        "Peru",
                        "Colombia",
                        "Venezuela (Bolivarian Republic of)",
                        "Argentina",
                        "Ecuador",
                        "Uruguay",
                        "Chile"
                      ]
                    }
                  ],
                  "layout": {
                    "title": {
                      "font": {
                        "size": 28
                      },
                      "text": "Life expectancy in South America in 2003"
                    },
                    "xaxis": {
                      "autorange": false,
                      "range": [
                        0,
                        90
                      ]
                    },
                    "yaxis": {
                      "autorange": false,
                      "range": [
                        -0.5,
                        10
                      ],
                      "tickfont": {
                        "size": 14
                      }
                    }
                  }
                },
                {
                  "data": [
                    {
                      "marker": {
                        "color": [
                          "#F4E400",
                          "#d62b1e",
                          "#009c3b",
                          "#D91023",
                          "#FCD116",
                          "#cf142b",
                          "#034ea3",
                          "#74ACDF",
                          "#0038a8",
                          "#0039a6"
                        ]
                      },
                      "orientation": "h",
                      "text": [
                        65.1,
                        71.9,
                        72,
                        72.2,
                        72.8,
                        73.3,
                        74.4,
                        74.7,
                        75.4,
                        78
                      ],
                      "type": "bar",
                      "x": [
                        65.1,
                        71.9,
                        72,
                        72.2,
                        72.8,
                        73.3,
                        74.4,
                        74.7,
                        75.4,
                        78
                      ],
                      "y": [
                        "Bolivia (Plurinational State of)",
                        "Paraguay",
                        "Brazil",
                        "Peru",
                        "Colombia",
                        "Venezuela (Bolivarian Republic of)",
                        "Ecuador",
                        "Argentina",
                        "Uruguay",
                        "Chile"
                      ]
                    }
                  ],
                  "layout": {
                    "title": {
                      "font": {
                        "size": 28
                      },
                      "text": "Life expectancy in South America in 2004"
                    },
                    "xaxis": {
                      "autorange": false,
                      "range": [
                        0,
                        90
                      ]
                    },
                    "yaxis": {
                      "autorange": false,
                      "range": [
                        -0.5,
                        10
                      ],
                      "tickfont": {
                        "size": 14
                      }
                    }
                  }
                },
                {
                  "data": [
                    {
                      "marker": {
                        "color": [
                          "#F4E400",
                          "#d62b1e",
                          "#009c3b",
                          "#D91023",
                          "#FCD116",
                          "#cf142b",
                          "#034ea3",
                          "#74ACDF",
                          "#0038a8",
                          "#0039a6"
                        ]
                      },
                      "orientation": "h",
                      "text": [
                        65.7,
                        72.1,
                        72.7,
                        72.8,
                        73.1,
                        73.6,
                        74.2,
                        74.9,
                        75.7,
                        78.4
                      ],
                      "type": "bar",
                      "x": [
                        65.7,
                        72.1,
                        72.7,
                        72.8,
                        73.1,
                        73.6,
                        74.2,
                        74.9,
                        75.7,
                        78.4
                      ],
                      "y": [
                        "Bolivia (Plurinational State of)",
                        "Paraguay",
                        "Brazil",
                        "Peru",
                        "Colombia",
                        "Venezuela (Bolivarian Republic of)",
                        "Ecuador",
                        "Argentina",
                        "Uruguay",
                        "Chile"
                      ]
                    }
                  ],
                  "layout": {
                    "title": {
                      "font": {
                        "size": 28
                      },
                      "text": "Life expectancy in South America in 2005"
                    },
                    "xaxis": {
                      "autorange": false,
                      "range": [
                        0,
                        90
                      ]
                    },
                    "yaxis": {
                      "autorange": false,
                      "range": [
                        -0.5,
                        10
                      ],
                      "tickfont": {
                        "size": 14
                      }
                    }
                  }
                },
                {
                  "data": [
                    {
                      "marker": {
                        "color": [
                          "#F4E400",
                          "#d62b1e",
                          "#009c3b",
                          "#FCD116",
                          "#cf142b",
                          "#D91023",
                          "#034ea3",
                          "#74ACDF",
                          "#0038a8",
                          "#0039a6"
                        ]
                      },
                      "orientation": "h",
                      "text": [
                        66.2,
                        72.3,
                        73,
                        73.1,
                        73.6,
                        74.2,
                        74.4,
                        75.2,
                        76.2,
                        78.9
                      ],
                      "type": "bar",
                      "x": [
                        66.2,
                        72.3,
                        73,
                        73.1,
                        73.6,
                        74.2,
                        74.4,
                        75.2,
                        76.2,
                        78.9
                      ],
                      "y": [
                        "Bolivia (Plurinational State of)",
                        "Paraguay",
                        "Brazil",
                        "Colombia",
                        "Venezuela (Bolivarian Republic of)",
                        "Peru",
                        "Ecuador",
                        "Argentina",
                        "Uruguay",
                        "Chile"
                      ]
                    }
                  ],
                  "layout": {
                    "title": {
                      "font": {
                        "size": 28
                      },
                      "text": "Life expectancy in South America in 2006"
                    },
                    "xaxis": {
                      "autorange": false,
                      "range": [
                        0,
                        90
                      ]
                    },
                    "yaxis": {
                      "autorange": false,
                      "range": [
                        -0.5,
                        10
                      ],
                      "tickfont": {
                        "size": 14
                      }
                    }
                  }
                },
                {
                  "data": [
                    {
                      "marker": {
                        "color": [
                          "#F4E400",
                          "#d62b1e",
                          "#009c3b",
                          "#cf142b",
                          "#FCD116",
                          "#D91023",
                          "#034ea3",
                          "#74ACDF",
                          "#0038a8",
                          "#0039a6"
                        ]
                      },
                      "orientation": "h",
                      "text": [
                        66.8,
                        72.5,
                        73.3,
                        73.4,
                        73.5,
                        74,
                        74.7,
                        74.8,
                        75.4,
                        78.9
                      ],
                      "type": "bar",
                      "x": [
                        66.8,
                        72.5,
                        73.3,
                        73.4,
                        73.5,
                        74,
                        74.7,
                        74.8,
                        75.4,
                        78.9
                      ],
                      "y": [
                        "Bolivia (Plurinational State of)",
                        "Paraguay",
                        "Brazil",
                        "Venezuela (Bolivarian Republic of)",
                        "Colombia",
                        "Peru",
                        "Ecuador",
                        "Argentina",
                        "Uruguay",
                        "Chile"
                      ]
                    }
                  ],
                  "layout": {
                    "title": {
                      "font": {
                        "size": 28
                      },
                      "text": "Life expectancy in South America in 2007"
                    },
                    "xaxis": {
                      "autorange": false,
                      "range": [
                        0,
                        90
                      ]
                    },
                    "yaxis": {
                      "autorange": false,
                      "range": [
                        -0.5,
                        10
                      ],
                      "tickfont": {
                        "size": 14
                      }
                    }
                  }
                },
                {
                  "data": [
                    {
                      "marker": {
                        "color": [
                          "#F4E400",
                          "#d62b1e",
                          "#cf142b",
                          "#009c3b",
                          "#FCD116",
                          "#D91023",
                          "#034ea3",
                          "#74ACDF",
                          "#0038a8",
                          "#0039a6"
                        ]
                      },
                      "orientation": "h",
                      "text": [
                        67.4,
                        72.7,
                        73.2,
                        73.4,
                        73.5,
                        73.9,
                        74.6,
                        75.4,
                        76.4,
                        79.6
                      ],
                      "type": "bar",
                      "x": [
                        67.4,
                        72.7,
                        73.2,
                        73.4,
                        73.5,
                        73.9,
                        74.6,
                        75.4,
                        76.4,
                        79.6
                      ],
                      "y": [
                        "Bolivia (Plurinational State of)",
                        "Paraguay",
                        "Venezuela (Bolivarian Republic of)",
                        "Brazil",
                        "Colombia",
                        "Peru",
                        "Ecuador",
                        "Argentina",
                        "Uruguay",
                        "Chile"
                      ]
                    }
                  ],
                  "layout": {
                    "title": {
                      "font": {
                        "size": 28
                      },
                      "text": "Life expectancy in South America in 2008"
                    },
                    "xaxis": {
                      "autorange": false,
                      "range": [
                        0,
                        90
                      ]
                    },
                    "yaxis": {
                      "autorange": false,
                      "range": [
                        -0.5,
                        10
                      ],
                      "tickfont": {
                        "size": 14
                      }
                    }
                  }
                },
                {
                  "data": [
                    {
                      "marker": {
                        "color": [
                          "#F4E400",
                          "#d62b1e",
                          "#009c3b",
                          "#FCD116",
                          "#cf142b",
                          "#D91023",
                          "#034ea3",
                          "#74ACDF",
                          "#0038a8",
                          "#0039a6"
                        ]
                      },
                      "orientation": "h",
                      "text": [
                        68,
                        73,
                        73.6,
                        73.6,
                        73.6,
                        73.8,
                        75.1,
                        75.6,
                        76.6,
                        79.3
                      ],
                      "type": "bar",
                      "x": [
                        68,
                        73,
                        73.6,
                        73.6,
                        73.6,
                        73.8,
                        75.1,
                        75.6,
                        76.6,
                        79.3
                      ],
                      "y": [
                        "Bolivia (Plurinational State of)",
                        "Paraguay",
                        "Brazil",
                        "Colombia",
                        "Venezuela (Bolivarian Republic of)",
                        "Peru",
                        "Ecuador",
                        "Argentina",
                        "Uruguay",
                        "Chile"
                      ]
                    }
                  ],
                  "layout": {
                    "title": {
                      "font": {
                        "size": 28
                      },
                      "text": "Life expectancy in South America in 2009"
                    },
                    "xaxis": {
                      "autorange": false,
                      "range": [
                        0,
                        90
                      ]
                    },
                    "yaxis": {
                      "autorange": false,
                      "range": [
                        -0.5,
                        10
                      ],
                      "tickfont": {
                        "size": 14
                      }
                    }
                  }
                },
                {
                  "data": [
                    {
                      "marker": {
                        "color": [
                          "#F4E400",
                          "#d62b1e",
                          "#FCD116",
                          "#D91023",
                          "#cf142b",
                          "#009c3b",
                          "#034ea3",
                          "#74ACDF",
                          "#0038a8",
                          "#0039a6"
                        ]
                      },
                      "orientation": "h",
                      "text": [
                        68.7,
                        73.2,
                        73.6,
                        73.7,
                        73.7,
                        73.8,
                        75,
                        75.5,
                        76.3,
                        79.1
                      ],
                      "type": "bar",
                      "x": [
                        68.7,
                        73.2,
                        73.6,
                        73.7,
                        73.7,
                        73.8,
                        75,
                        75.5,
                        76.3,
                        79.1
                      ],
                      "y": [
                        "Bolivia (Plurinational State of)",
                        "Paraguay",
                        "Colombia",
                        "Peru",
                        "Venezuela (Bolivarian Republic of)",
                        "Brazil",
                        "Ecuador",
                        "Argentina",
                        "Uruguay",
                        "Chile"
                      ]
                    }
                  ],
                  "layout": {
                    "title": {
                      "font": {
                        "size": 28
                      },
                      "text": "Life expectancy in South America in 2010"
                    },
                    "xaxis": {
                      "autorange": false,
                      "range": [
                        0,
                        90
                      ]
                    },
                    "yaxis": {
                      "autorange": false,
                      "range": [
                        -0.5,
                        10
                      ],
                      "tickfont": {
                        "size": 14
                      }
                    }
                  }
                },
                {
                  "data": [
                    {
                      "marker": {
                        "color": [
                          "#F4E400",
                          "#d62b1e",
                          "#cf142b",
                          "#009c3b",
                          "#FCD116",
                          "#D91023",
                          "#034ea3",
                          "#74ACDF",
                          "#0038a8",
                          "#0039a6"
                        ]
                      },
                      "orientation": "h",
                      "text": [
                        69.3,
                        73.4,
                        73.8,
                        74.1,
                        74.2,
                        74.5,
                        75.3,
                        75.7,
                        77,
                        79.8
                      ],
                      "type": "bar",
                      "x": [
                        69.3,
                        73.4,
                        73.8,
                        74.1,
                        74.2,
                        74.5,
                        75.3,
                        75.7,
                        77,
                        79.8
                      ],
                      "y": [
                        "Bolivia (Plurinational State of)",
                        "Paraguay",
                        "Venezuela (Bolivarian Republic of)",
                        "Brazil",
                        "Colombia",
                        "Peru",
                        "Ecuador",
                        "Argentina",
                        "Uruguay",
                        "Chile"
                      ]
                    }
                  ],
                  "layout": {
                    "title": {
                      "font": {
                        "size": 28
                      },
                      "text": "Life expectancy in South America in 2011"
                    },
                    "xaxis": {
                      "autorange": false,
                      "range": [
                        0,
                        90
                      ]
                    },
                    "yaxis": {
                      "autorange": false,
                      "range": [
                        -0.5,
                        10
                      ],
                      "tickfont": {
                        "size": 14
                      }
                    }
                  }
                },
                {
                  "data": [
                    {
                      "marker": {
                        "color": [
                          "#F4E400",
                          "#d62b1e",
                          "#cf142b",
                          "#FCD116",
                          "#009c3b",
                          "#D91023",
                          "#034ea3",
                          "#74ACDF",
                          "#0038a8",
                          "#0039a6"
                        ]
                      },
                      "orientation": "h",
                      "text": [
                        69.8,
                        73.6,
                        73.7,
                        74.3,
                        74.5,
                        74.9,
                        75.5,
                        75.9,
                        76.5,
                        79.9
                      ],
                      "type": "bar",
                      "x": [
                        69.8,
                        73.6,
                        73.7,
                        74.3,
                        74.5,
                        74.9,
                        75.5,
                        75.9,
                        76.5,
                        79.9
                      ],
                      "y": [
                        "Bolivia (Plurinational State of)",
                        "Paraguay",
                        "Venezuela (Bolivarian Republic of)",
                        "Colombia",
                        "Brazil",
                        "Peru",
                        "Ecuador",
                        "Argentina",
                        "Uruguay",
                        "Chile"
                      ]
                    }
                  ],
                  "layout": {
                    "title": {
                      "font": {
                        "size": 28
                      },
                      "text": "Life expectancy in South America in 2012"
                    },
                    "xaxis": {
                      "autorange": false,
                      "range": [
                        0,
                        90
                      ]
                    },
                    "yaxis": {
                      "autorange": false,
                      "range": [
                        -0.5,
                        10
                      ],
                      "tickfont": {
                        "size": 14
                      }
                    }
                  }
                },
                {
                  "data": [
                    {
                      "marker": {
                        "color": [
                          "#F4E400",
                          "#d62b1e",
                          "#cf142b",
                          "#FCD116",
                          "#009c3b",
                          "#D91023",
                          "#74ACDF",
                          "#034ea3",
                          "#0038a8",
                          "#0039a6"
                        ]
                      },
                      "orientation": "h",
                      "text": [
                        71,
                        73.8,
                        73.8,
                        74.4,
                        74.7,
                        75.3,
                        76,
                        76,
                        76.8,
                        81
                      ],
                      "type": "bar",
                      "x": [
                        71,
                        73.8,
                        73.8,
                        74.4,
                        74.7,
                        75.3,
                        76,
                        76,
                        76.8,
                        81
                      ],
                      "y": [
                        "Bolivia (Plurinational State of)",
                        "Paraguay",
                        "Venezuela (Bolivarian Republic of)",
                        "Colombia",
                        "Brazil",
                        "Peru",
                        "Argentina",
                        "Ecuador",
                        "Uruguay",
                        "Chile"
                      ]
                    }
                  ],
                  "layout": {
                    "title": {
                      "font": {
                        "size": 28
                      },
                      "text": "Life expectancy in South America in 2013"
                    },
                    "xaxis": {
                      "autorange": false,
                      "range": [
                        0,
                        90
                      ]
                    },
                    "yaxis": {
                      "autorange": false,
                      "range": [
                        -0.5,
                        10
                      ],
                      "tickfont": {
                        "size": 14
                      }
                    }
                  }
                },
                {
                  "data": [
                    {
                      "marker": {
                        "color": [
                          "#d62b1e",
                          "#cf142b",
                          "#F4E400",
                          "#FCD116",
                          "#009c3b",
                          "#D91023",
                          "#034ea3",
                          "#74ACDF",
                          "#0038a8",
                          "#0039a6"
                        ]
                      },
                      "orientation": "h",
                      "text": [
                        73.9,
                        73.9,
                        74,
                        74.6,
                        74.8,
                        75.3,
                        76,
                        76.2,
                        76.8,
                        83
                      ],
                      "type": "bar",
                      "x": [
                        73.9,
                        73.9,
                        74,
                        74.6,
                        74.8,
                        75.3,
                        76,
                        76.2,
                        76.8,
                        83
                      ],
                      "y": [
                        "Paraguay",
                        "Venezuela (Bolivarian Republic of)",
                        "Bolivia (Plurinational State of)",
                        "Colombia",
                        "Brazil",
                        "Peru",
                        "Ecuador",
                        "Argentina",
                        "Uruguay",
                        "Chile"
                      ]
                    }
                  ],
                  "layout": {
                    "title": {
                      "font": {
                        "size": 28
                      },
                      "text": "Life expectancy in South America in 2014"
                    },
                    "xaxis": {
                      "autorange": false,
                      "range": [
                        0,
                        90
                      ]
                    },
                    "yaxis": {
                      "autorange": false,
                      "range": [
                        -0.5,
                        10
                      ],
                      "tickfont": {
                        "size": 14
                      }
                    }
                  }
                },
                {
                  "data": [
                    {
                      "marker": {
                        "color": [
                          "#d62b1e",
                          "#cf142b",
                          "#FCD116",
                          "#009c3b",
                          "#D91023",
                          "#034ea3",
                          "#74ACDF",
                          "#F4E400",
                          "#0038a8",
                          "#0039a6"
                        ]
                      },
                      "orientation": "h",
                      "text": [
                        74,
                        74.1,
                        74.8,
                        75,
                        75.5,
                        76.2,
                        76.3,
                        77,
                        77,
                        85
                      ],
                      "type": "bar",
                      "x": [
                        74,
                        74.1,
                        74.8,
                        75,
                        75.5,
                        76.2,
                        76.3,
                        77,
                        77,
                        85
                      ],
                      "y": [
                        "Paraguay",
                        "Venezuela (Bolivarian Republic of)",
                        "Colombia",
                        "Brazil",
                        "Peru",
                        "Ecuador",
                        "Argentina",
                        "Bolivia (Plurinational State of)",
                        "Uruguay",
                        "Chile"
                      ]
                    }
                  ],
                  "layout": {
                    "title": {
                      "font": {
                        "size": 28
                      },
                      "text": "Life expectancy in South America in 2015"
                    },
                    "xaxis": {
                      "autorange": false,
                      "range": [
                        0,
                        90
                      ]
                    },
                    "yaxis": {
                      "autorange": false,
                      "range": [
                        -0.5,
                        10
                      ],
                      "tickfont": {
                        "size": 14
                      }
                    }
                  }
                }
              ],
              "layout": {
                "template": {
                  "data": {
                    "bar": [
                      {
                        "error_x": {
                          "color": "#2a3f5f"
                        },
                        "error_y": {
                          "color": "#2a3f5f"
                        },
                        "marker": {
                          "line": {
                            "color": "#E5ECF6",
                            "width": 0.5
                          }
                        },
                        "type": "bar"
                      }
                    ],
                    "barpolar": [
                      {
                        "marker": {
                          "line": {
                            "color": "#E5ECF6",
                            "width": 0.5
                          }
                        },
                        "type": "barpolar"
                      }
                    ],
                    "carpet": [
                      {
                        "aaxis": {
                          "endlinecolor": "#2a3f5f",
                          "gridcolor": "white",
                          "linecolor": "white",
                          "minorgridcolor": "white",
                          "startlinecolor": "#2a3f5f"
                        },
                        "baxis": {
                          "endlinecolor": "#2a3f5f",
                          "gridcolor": "white",
                          "linecolor": "white",
                          "minorgridcolor": "white",
                          "startlinecolor": "#2a3f5f"
                        },
                        "type": "carpet"
                      }
                    ],
                    "choropleth": [
                      {
                        "colorbar": {
                          "outlinewidth": 0,
                          "ticks": ""
                        },
                        "type": "choropleth"
                      }
                    ],
                    "contour": [
                      {
                        "colorbar": {
                          "outlinewidth": 0,
                          "ticks": ""
                        },
                        "colorscale": [
                          [
                            0,
                            "#0d0887"
                          ],
                          [
                            0.1111111111111111,
                            "#46039f"
                          ],
                          [
                            0.2222222222222222,
                            "#7201a8"
                          ],
                          [
                            0.3333333333333333,
                            "#9c179e"
                          ],
                          [
                            0.4444444444444444,
                            "#bd3786"
                          ],
                          [
                            0.5555555555555556,
                            "#d8576b"
                          ],
                          [
                            0.6666666666666666,
                            "#ed7953"
                          ],
                          [
                            0.7777777777777778,
                            "#fb9f3a"
                          ],
                          [
                            0.8888888888888888,
                            "#fdca26"
                          ],
                          [
                            1,
                            "#f0f921"
                          ]
                        ],
                        "type": "contour"
                      }
                    ],
                    "contourcarpet": [
                      {
                        "colorbar": {
                          "outlinewidth": 0,
                          "ticks": ""
                        },
                        "type": "contourcarpet"
                      }
                    ],
                    "heatmap": [
                      {
                        "colorbar": {
                          "outlinewidth": 0,
                          "ticks": ""
                        },
                        "colorscale": [
                          [
                            0,
                            "#0d0887"
                          ],
                          [
                            0.1111111111111111,
                            "#46039f"
                          ],
                          [
                            0.2222222222222222,
                            "#7201a8"
                          ],
                          [
                            0.3333333333333333,
                            "#9c179e"
                          ],
                          [
                            0.4444444444444444,
                            "#bd3786"
                          ],
                          [
                            0.5555555555555556,
                            "#d8576b"
                          ],
                          [
                            0.6666666666666666,
                            "#ed7953"
                          ],
                          [
                            0.7777777777777778,
                            "#fb9f3a"
                          ],
                          [
                            0.8888888888888888,
                            "#fdca26"
                          ],
                          [
                            1,
                            "#f0f921"
                          ]
                        ],
                        "type": "heatmap"
                      }
                    ],
                    "heatmapgl": [
                      {
                        "colorbar": {
                          "outlinewidth": 0,
                          "ticks": ""
                        },
                        "colorscale": [
                          [
                            0,
                            "#0d0887"
                          ],
                          [
                            0.1111111111111111,
                            "#46039f"
                          ],
                          [
                            0.2222222222222222,
                            "#7201a8"
                          ],
                          [
                            0.3333333333333333,
                            "#9c179e"
                          ],
                          [
                            0.4444444444444444,
                            "#bd3786"
                          ],
                          [
                            0.5555555555555556,
                            "#d8576b"
                          ],
                          [
                            0.6666666666666666,
                            "#ed7953"
                          ],
                          [
                            0.7777777777777778,
                            "#fb9f3a"
                          ],
                          [
                            0.8888888888888888,
                            "#fdca26"
                          ],
                          [
                            1,
                            "#f0f921"
                          ]
                        ],
                        "type": "heatmapgl"
                      }
                    ],
                    "histogram": [
                      {
                        "marker": {
                          "colorbar": {
                            "outlinewidth": 0,
                            "ticks": ""
                          }
                        },
                        "type": "histogram"
                      }
                    ],
                    "histogram2d": [
                      {
                        "colorbar": {
                          "outlinewidth": 0,
                          "ticks": ""
                        },
                        "colorscale": [
                          [
                            0,
                            "#0d0887"
                          ],
                          [
                            0.1111111111111111,
                            "#46039f"
                          ],
                          [
                            0.2222222222222222,
                            "#7201a8"
                          ],
                          [
                            0.3333333333333333,
                            "#9c179e"
                          ],
                          [
                            0.4444444444444444,
                            "#bd3786"
                          ],
                          [
                            0.5555555555555556,
                            "#d8576b"
                          ],
                          [
                            0.6666666666666666,
                            "#ed7953"
                          ],
                          [
                            0.7777777777777778,
                            "#fb9f3a"
                          ],
                          [
                            0.8888888888888888,
                            "#fdca26"
                          ],
                          [
                            1,
                            "#f0f921"
                          ]
                        ],
                        "type": "histogram2d"
                      }
                    ],
                    "histogram2dcontour": [
                      {
                        "colorbar": {
                          "outlinewidth": 0,
                          "ticks": ""
                        },
                        "colorscale": [
                          [
                            0,
                            "#0d0887"
                          ],
                          [
                            0.1111111111111111,
                            "#46039f"
                          ],
                          [
                            0.2222222222222222,
                            "#7201a8"
                          ],
                          [
                            0.3333333333333333,
                            "#9c179e"
                          ],
                          [
                            0.4444444444444444,
                            "#bd3786"
                          ],
                          [
                            0.5555555555555556,
                            "#d8576b"
                          ],
                          [
                            0.6666666666666666,
                            "#ed7953"
                          ],
                          [
                            0.7777777777777778,
                            "#fb9f3a"
                          ],
                          [
                            0.8888888888888888,
                            "#fdca26"
                          ],
                          [
                            1,
                            "#f0f921"
                          ]
                        ],
                        "type": "histogram2dcontour"
                      }
                    ],
                    "mesh3d": [
                      {
                        "colorbar": {
                          "outlinewidth": 0,
                          "ticks": ""
                        },
                        "type": "mesh3d"
                      }
                    ],
                    "parcoords": [
                      {
                        "line": {
                          "colorbar": {
                            "outlinewidth": 0,
                            "ticks": ""
                          }
                        },
                        "type": "parcoords"
                      }
                    ],
                    "pie": [
                      {
                        "automargin": true,
                        "type": "pie"
                      }
                    ],
                    "scatter": [
                      {
                        "marker": {
                          "colorbar": {
                            "outlinewidth": 0,
                            "ticks": ""
                          }
                        },
                        "type": "scatter"
                      }
                    ],
                    "scatter3d": [
                      {
                        "line": {
                          "colorbar": {
                            "outlinewidth": 0,
                            "ticks": ""
                          }
                        },
                        "marker": {
                          "colorbar": {
                            "outlinewidth": 0,
                            "ticks": ""
                          }
                        },
                        "type": "scatter3d"
                      }
                    ],
                    "scattercarpet": [
                      {
                        "marker": {
                          "colorbar": {
                            "outlinewidth": 0,
                            "ticks": ""
                          }
                        },
                        "type": "scattercarpet"
                      }
                    ],
                    "scattergeo": [
                      {
                        "marker": {
                          "colorbar": {
                            "outlinewidth": 0,
                            "ticks": ""
                          }
                        },
                        "type": "scattergeo"
                      }
                    ],
                    "scattergl": [
                      {
                        "marker": {
                          "colorbar": {
                            "outlinewidth": 0,
                            "ticks": ""
                          }
                        },
                        "type": "scattergl"
                      }
                    ],
                    "scattermapbox": [
                      {
                        "marker": {
                          "colorbar": {
                            "outlinewidth": 0,
                            "ticks": ""
                          }
                        },
                        "type": "scattermapbox"
                      }
                    ],
                    "scatterpolar": [
                      {
                        "marker": {
                          "colorbar": {
                            "outlinewidth": 0,
                            "ticks": ""
                          }
                        },
                        "type": "scatterpolar"
                      }
                    ],
                    "scatterpolargl": [
                      {
                        "marker": {
                          "colorbar": {
                            "outlinewidth": 0,
                            "ticks": ""
                          }
                        },
                        "type": "scatterpolargl"
                      }
                    ],
                    "scatterternary": [
                      {
                        "marker": {
                          "colorbar": {
                            "outlinewidth": 0,
                            "ticks": ""
                          }
                        },
                        "type": "scatterternary"
                      }
                    ],
                    "surface": [
                      {
                        "colorbar": {
                          "outlinewidth": 0,
                          "ticks": ""
                        },
                        "colorscale": [
                          [
                            0,
                            "#0d0887"
                          ],
                          [
                            0.1111111111111111,
                            "#46039f"
                          ],
                          [
                            0.2222222222222222,
                            "#7201a8"
                          ],
                          [
                            0.3333333333333333,
                            "#9c179e"
                          ],
                          [
                            0.4444444444444444,
                            "#bd3786"
                          ],
                          [
                            0.5555555555555556,
                            "#d8576b"
                          ],
                          [
                            0.6666666666666666,
                            "#ed7953"
                          ],
                          [
                            0.7777777777777778,
                            "#fb9f3a"
                          ],
                          [
                            0.8888888888888888,
                            "#fdca26"
                          ],
                          [
                            1,
                            "#f0f921"
                          ]
                        ],
                        "type": "surface"
                      }
                    ],
                    "table": [
                      {
                        "cells": {
                          "fill": {
                            "color": "#EBF0F8"
                          },
                          "line": {
                            "color": "white"
                          }
                        },
                        "header": {
                          "fill": {
                            "color": "#C8D4E3"
                          },
                          "line": {
                            "color": "white"
                          }
                        },
                        "type": "table"
                      }
                    ]
                  },
                  "layout": {
                    "annotationdefaults": {
                      "arrowcolor": "#2a3f5f",
                      "arrowhead": 0,
                      "arrowwidth": 1
                    },
                    "autotypenumbers": "strict",
                    "coloraxis": {
                      "colorbar": {
                        "outlinewidth": 0,
                        "ticks": ""
                      }
                    },
                    "colorscale": {
                      "diverging": [
                        [
                          0,
                          "#8e0152"
                        ],
                        [
                          0.1,
                          "#c51b7d"
                        ],
                        [
                          0.2,
                          "#de77ae"
                        ],
                        [
                          0.3,
                          "#f1b6da"
                        ],
                        [
                          0.4,
                          "#fde0ef"
                        ],
                        [
                          0.5,
                          "#f7f7f7"
                        ],
                        [
                          0.6,
                          "#e6f5d0"
                        ],
                        [
                          0.7,
                          "#b8e186"
                        ],
                        [
                          0.8,
                          "#7fbc41"
                        ],
                        [
                          0.9,
                          "#4d9221"
                        ],
                        [
                          1,
                          "#276419"
                        ]
                      ],
                      "sequential": [
                        [
                          0,
                          "#0d0887"
                        ],
                        [
                          0.1111111111111111,
                          "#46039f"
                        ],
                        [
                          0.2222222222222222,
                          "#7201a8"
                        ],
                        [
                          0.3333333333333333,
                          "#9c179e"
                        ],
                        [
                          0.4444444444444444,
                          "#bd3786"
                        ],
                        [
                          0.5555555555555556,
                          "#d8576b"
                        ],
                        [
                          0.6666666666666666,
                          "#ed7953"
                        ],
                        [
                          0.7777777777777778,
                          "#fb9f3a"
                        ],
                        [
                          0.8888888888888888,
                          "#fdca26"
                        ],
                        [
                          1,
                          "#f0f921"
                        ]
                      ],
                      "sequentialminus": [
                        [
                          0,
                          "#0d0887"
                        ],
                        [
                          0.1111111111111111,
                          "#46039f"
                        ],
                        [
                          0.2222222222222222,
                          "#7201a8"
                        ],
                        [
                          0.3333333333333333,
                          "#9c179e"
                        ],
                        [
                          0.4444444444444444,
                          "#bd3786"
                        ],
                        [
                          0.5555555555555556,
                          "#d8576b"
                        ],
                        [
                          0.6666666666666666,
                          "#ed7953"
                        ],
                        [
                          0.7777777777777778,
                          "#fb9f3a"
                        ],
                        [
                          0.8888888888888888,
                          "#fdca26"
                        ],
                        [
                          1,
                          "#f0f921"
                        ]
                      ]
                    },
                    "colorway": [
                      "#636efa",
                      "#EF553B",
                      "#00cc96",
                      "#ab63fa",
                      "#FFA15A",
                      "#19d3f3",
                      "#FF6692",
                      "#B6E880",
                      "#FF97FF",
                      "#FECB52"
                    ],
                    "font": {
                      "color": "#2a3f5f"
                    },
                    "geo": {
                      "bgcolor": "white",
                      "lakecolor": "white",
                      "landcolor": "#E5ECF6",
                      "showlakes": true,
                      "showland": true,
                      "subunitcolor": "white"
                    },
                    "hoverlabel": {
                      "align": "left"
                    },
                    "hovermode": "closest",
                    "mapbox": {
                      "style": "light"
                    },
                    "paper_bgcolor": "white",
                    "plot_bgcolor": "#E5ECF6",
                    "polar": {
                      "angularaxis": {
                        "gridcolor": "white",
                        "linecolor": "white",
                        "ticks": ""
                      },
                      "bgcolor": "#E5ECF6",
                      "radialaxis": {
                        "gridcolor": "white",
                        "linecolor": "white",
                        "ticks": ""
                      }
                    },
                    "scene": {
                      "xaxis": {
                        "backgroundcolor": "#E5ECF6",
                        "gridcolor": "white",
                        "gridwidth": 2,
                        "linecolor": "white",
                        "showbackground": true,
                        "ticks": "",
                        "zerolinecolor": "white"
                      },
                      "yaxis": {
                        "backgroundcolor": "#E5ECF6",
                        "gridcolor": "white",
                        "gridwidth": 2,
                        "linecolor": "white",
                        "showbackground": true,
                        "ticks": "",
                        "zerolinecolor": "white"
                      },
                      "zaxis": {
                        "backgroundcolor": "#E5ECF6",
                        "gridcolor": "white",
                        "gridwidth": 2,
                        "linecolor": "white",
                        "showbackground": true,
                        "ticks": "",
                        "zerolinecolor": "white"
                      }
                    },
                    "shapedefaults": {
                      "line": {
                        "color": "#2a3f5f"
                      }
                    },
                    "ternary": {
                      "aaxis": {
                        "gridcolor": "white",
                        "linecolor": "white",
                        "ticks": ""
                      },
                      "baxis": {
                        "gridcolor": "white",
                        "linecolor": "white",
                        "ticks": ""
                      },
                      "bgcolor": "#E5ECF6",
                      "caxis": {
                        "gridcolor": "white",
                        "linecolor": "white",
                        "ticks": ""
                      }
                    },
                    "title": {
                      "x": 0.05
                    },
                    "xaxis": {
                      "automargin": true,
                      "gridcolor": "white",
                      "linecolor": "white",
                      "ticks": "",
                      "title": {
                        "standoff": 15
                      },
                      "zerolinecolor": "white",
                      "zerolinewidth": 2
                    },
                    "yaxis": {
                      "automargin": true,
                      "gridcolor": "white",
                      "linecolor": "white",
                      "ticks": "",
                      "title": {
                        "standoff": 15
                      },
                      "zerolinecolor": "white",
                      "zerolinewidth": 2
                    }
                  }
                },
                "title": {
                  "font": {
                    "size": 28
                  },
                  "text": "Life expectancy",
                  "x": 0.5,
                  "xanchor": "center"
                },
                "updatemenus": [
                  {
                    "buttons": [
                      {
                        "args": [
                          null,
                          {
                            "frame": {
                              "duration": 1000,
                              "redraw": true
                            },
                            "transition": {
                              "duration": 250,
                              "easing": "linear"
                            }
                          }
                        ],
                        "label": "Play",
                        "method": "animate"
                      }
                    ],
                    "type": "buttons"
                  }
                ],
                "xaxis": {
                  "autorange": false,
                  "range": [
                    0,
                    60
                  ],
                  "title": {
                    "font": {
                      "size": 18
                    },
                    "text": "Life expectancy"
                  }
                },
                "yaxis": {
                  "autorange": false,
                  "range": [
                    -0.5,
                    5.5
                  ],
                  "tickfont": {
                    "size": 14
                  }
                }
              }
            },
            "text/html": [
              "<div>                            <div id=\"7a00bfa1-6d71-4b5c-9dde-328fa8689148\" class=\"plotly-graph-div\" style=\"height:525px; width:100%;\"></div>            <script type=\"text/javascript\">                require([\"plotly\"], function(Plotly) {                    window.PLOTLYENV=window.PLOTLYENV || {};                                    if (document.getElementById(\"7a00bfa1-6d71-4b5c-9dde-328fa8689148\")) {                    Plotly.newPlot(                        \"7a00bfa1-6d71-4b5c-9dde-328fa8689148\",                        [{\"insidetextanchor\": \"middle\", \"marker\": {\"color\": [\"#F4E400\", \"#FCD116\", \"#D91023\", \"#cf142b\", \"#034ea3\", \"#74ACDF\", \"#009c3b\", \"#0038a8\", \"#0039a6\", \"#d62b1e\"]}, \"orientation\": \"h\", \"text\": [62.6, 71.4, 71.4, 72.5, 72.8, 74.1, 75.0, 75.1, 77.3, 79.0], \"textfont\": {\"size\": 18}, \"textposition\": \"inside\", \"type\": \"bar\", \"width\": 0.9, \"x\": [62.6, 71.4, 71.4, 72.5, 72.8, 74.1, 75.0, 75.1, 77.3, 79.0], \"y\": [\"Bolivia (Plurinational State of)\", \"Colombia\", \"Peru\", \"Venezuela (Bolivarian Republic of)\", \"Ecuador\", \"Argentina\", \"Brazil\", \"Uruguay\", \"Chile\", \"Paraguay\"]}],                        {\"template\": {\"data\": {\"bar\": [{\"error_x\": {\"color\": \"#2a3f5f\"}, \"error_y\": {\"color\": \"#2a3f5f\"}, \"marker\": {\"line\": {\"color\": \"#E5ECF6\", \"width\": 0.5}}, \"type\": \"bar\"}], \"barpolar\": [{\"marker\": {\"line\": {\"color\": \"#E5ECF6\", \"width\": 0.5}}, \"type\": \"barpolar\"}], \"carpet\": [{\"aaxis\": {\"endlinecolor\": \"#2a3f5f\", \"gridcolor\": \"white\", \"linecolor\": \"white\", \"minorgridcolor\": \"white\", \"startlinecolor\": \"#2a3f5f\"}, \"baxis\": {\"endlinecolor\": \"#2a3f5f\", \"gridcolor\": \"white\", \"linecolor\": \"white\", \"minorgridcolor\": \"white\", \"startlinecolor\": \"#2a3f5f\"}, \"type\": \"carpet\"}], \"choropleth\": [{\"colorbar\": {\"outlinewidth\": 0, \"ticks\": \"\"}, \"type\": \"choropleth\"}], \"contour\": [{\"colorbar\": {\"outlinewidth\": 0, \"ticks\": \"\"}, \"colorscale\": [[0.0, \"#0d0887\"], [0.1111111111111111, \"#46039f\"], [0.2222222222222222, \"#7201a8\"], [0.3333333333333333, \"#9c179e\"], [0.4444444444444444, \"#bd3786\"], [0.5555555555555556, \"#d8576b\"], [0.6666666666666666, \"#ed7953\"], [0.7777777777777778, \"#fb9f3a\"], [0.8888888888888888, \"#fdca26\"], [1.0, \"#f0f921\"]], \"type\": \"contour\"}], \"contourcarpet\": [{\"colorbar\": {\"outlinewidth\": 0, \"ticks\": \"\"}, \"type\": \"contourcarpet\"}], \"heatmap\": [{\"colorbar\": {\"outlinewidth\": 0, \"ticks\": \"\"}, \"colorscale\": [[0.0, \"#0d0887\"], [0.1111111111111111, \"#46039f\"], [0.2222222222222222, \"#7201a8\"], [0.3333333333333333, \"#9c179e\"], [0.4444444444444444, \"#bd3786\"], [0.5555555555555556, \"#d8576b\"], [0.6666666666666666, \"#ed7953\"], [0.7777777777777778, \"#fb9f3a\"], [0.8888888888888888, \"#fdca26\"], [1.0, \"#f0f921\"]], \"type\": \"heatmap\"}], \"heatmapgl\": [{\"colorbar\": {\"outlinewidth\": 0, \"ticks\": \"\"}, \"colorscale\": [[0.0, \"#0d0887\"], [0.1111111111111111, \"#46039f\"], [0.2222222222222222, \"#7201a8\"], [0.3333333333333333, \"#9c179e\"], [0.4444444444444444, \"#bd3786\"], [0.5555555555555556, \"#d8576b\"], [0.6666666666666666, \"#ed7953\"], [0.7777777777777778, \"#fb9f3a\"], [0.8888888888888888, \"#fdca26\"], [1.0, \"#f0f921\"]], \"type\": \"heatmapgl\"}], \"histogram\": [{\"marker\": {\"colorbar\": {\"outlinewidth\": 0, \"ticks\": \"\"}}, \"type\": \"histogram\"}], \"histogram2d\": [{\"colorbar\": {\"outlinewidth\": 0, \"ticks\": \"\"}, \"colorscale\": [[0.0, \"#0d0887\"], [0.1111111111111111, \"#46039f\"], [0.2222222222222222, \"#7201a8\"], [0.3333333333333333, \"#9c179e\"], [0.4444444444444444, \"#bd3786\"], [0.5555555555555556, \"#d8576b\"], [0.6666666666666666, \"#ed7953\"], [0.7777777777777778, \"#fb9f3a\"], [0.8888888888888888, \"#fdca26\"], [1.0, \"#f0f921\"]], \"type\": \"histogram2d\"}], \"histogram2dcontour\": [{\"colorbar\": {\"outlinewidth\": 0, \"ticks\": \"\"}, \"colorscale\": [[0.0, \"#0d0887\"], [0.1111111111111111, \"#46039f\"], [0.2222222222222222, \"#7201a8\"], [0.3333333333333333, \"#9c179e\"], [0.4444444444444444, \"#bd3786\"], [0.5555555555555556, \"#d8576b\"], [0.6666666666666666, \"#ed7953\"], [0.7777777777777778, \"#fb9f3a\"], [0.8888888888888888, \"#fdca26\"], [1.0, \"#f0f921\"]], \"type\": \"histogram2dcontour\"}], \"mesh3d\": [{\"colorbar\": {\"outlinewidth\": 0, \"ticks\": \"\"}, \"type\": \"mesh3d\"}], \"parcoords\": [{\"line\": {\"colorbar\": {\"outlinewidth\": 0, \"ticks\": \"\"}}, \"type\": \"parcoords\"}], \"pie\": [{\"automargin\": true, \"type\": \"pie\"}], \"scatter\": [{\"marker\": {\"colorbar\": {\"outlinewidth\": 0, \"ticks\": \"\"}}, \"type\": \"scatter\"}], \"scatter3d\": [{\"line\": {\"colorbar\": {\"outlinewidth\": 0, \"ticks\": \"\"}}, \"marker\": {\"colorbar\": {\"outlinewidth\": 0, \"ticks\": \"\"}}, \"type\": \"scatter3d\"}], \"scattercarpet\": [{\"marker\": {\"colorbar\": {\"outlinewidth\": 0, \"ticks\": \"\"}}, \"type\": \"scattercarpet\"}], \"scattergeo\": [{\"marker\": {\"colorbar\": {\"outlinewidth\": 0, \"ticks\": \"\"}}, \"type\": \"scattergeo\"}], \"scattergl\": [{\"marker\": {\"colorbar\": {\"outlinewidth\": 0, \"ticks\": \"\"}}, \"type\": \"scattergl\"}], \"scattermapbox\": [{\"marker\": {\"colorbar\": {\"outlinewidth\": 0, \"ticks\": \"\"}}, \"type\": \"scattermapbox\"}], \"scatterpolar\": [{\"marker\": {\"colorbar\": {\"outlinewidth\": 0, \"ticks\": \"\"}}, \"type\": \"scatterpolar\"}], \"scatterpolargl\": [{\"marker\": {\"colorbar\": {\"outlinewidth\": 0, \"ticks\": \"\"}}, \"type\": \"scatterpolargl\"}], \"scatterternary\": [{\"marker\": {\"colorbar\": {\"outlinewidth\": 0, \"ticks\": \"\"}}, \"type\": \"scatterternary\"}], \"surface\": [{\"colorbar\": {\"outlinewidth\": 0, \"ticks\": \"\"}, \"colorscale\": [[0.0, \"#0d0887\"], [0.1111111111111111, \"#46039f\"], [0.2222222222222222, \"#7201a8\"], [0.3333333333333333, \"#9c179e\"], [0.4444444444444444, \"#bd3786\"], [0.5555555555555556, \"#d8576b\"], [0.6666666666666666, \"#ed7953\"], [0.7777777777777778, \"#fb9f3a\"], [0.8888888888888888, \"#fdca26\"], [1.0, \"#f0f921\"]], \"type\": \"surface\"}], \"table\": [{\"cells\": {\"fill\": {\"color\": \"#EBF0F8\"}, \"line\": {\"color\": \"white\"}}, \"header\": {\"fill\": {\"color\": \"#C8D4E3\"}, \"line\": {\"color\": \"white\"}}, \"type\": \"table\"}]}, \"layout\": {\"annotationdefaults\": {\"arrowcolor\": \"#2a3f5f\", \"arrowhead\": 0, \"arrowwidth\": 1}, \"autotypenumbers\": \"strict\", \"coloraxis\": {\"colorbar\": {\"outlinewidth\": 0, \"ticks\": \"\"}}, \"colorscale\": {\"diverging\": [[0, \"#8e0152\"], [0.1, \"#c51b7d\"], [0.2, \"#de77ae\"], [0.3, \"#f1b6da\"], [0.4, \"#fde0ef\"], [0.5, \"#f7f7f7\"], [0.6, \"#e6f5d0\"], [0.7, \"#b8e186\"], [0.8, \"#7fbc41\"], [0.9, \"#4d9221\"], [1, \"#276419\"]], \"sequential\": [[0.0, \"#0d0887\"], [0.1111111111111111, \"#46039f\"], [0.2222222222222222, \"#7201a8\"], [0.3333333333333333, \"#9c179e\"], [0.4444444444444444, \"#bd3786\"], [0.5555555555555556, \"#d8576b\"], [0.6666666666666666, \"#ed7953\"], [0.7777777777777778, \"#fb9f3a\"], [0.8888888888888888, \"#fdca26\"], [1.0, \"#f0f921\"]], \"sequentialminus\": [[0.0, \"#0d0887\"], [0.1111111111111111, \"#46039f\"], [0.2222222222222222, \"#7201a8\"], [0.3333333333333333, \"#9c179e\"], [0.4444444444444444, \"#bd3786\"], [0.5555555555555556, \"#d8576b\"], [0.6666666666666666, \"#ed7953\"], [0.7777777777777778, \"#fb9f3a\"], [0.8888888888888888, \"#fdca26\"], [1.0, \"#f0f921\"]]}, \"colorway\": [\"#636efa\", \"#EF553B\", \"#00cc96\", \"#ab63fa\", \"#FFA15A\", \"#19d3f3\", \"#FF6692\", \"#B6E880\", \"#FF97FF\", \"#FECB52\"], \"font\": {\"color\": \"#2a3f5f\"}, \"geo\": {\"bgcolor\": \"white\", \"lakecolor\": \"white\", \"landcolor\": \"#E5ECF6\", \"showlakes\": true, \"showland\": true, \"subunitcolor\": \"white\"}, \"hoverlabel\": {\"align\": \"left\"}, \"hovermode\": \"closest\", \"mapbox\": {\"style\": \"light\"}, \"paper_bgcolor\": \"white\", \"plot_bgcolor\": \"#E5ECF6\", \"polar\": {\"angularaxis\": {\"gridcolor\": \"white\", \"linecolor\": \"white\", \"ticks\": \"\"}, \"bgcolor\": \"#E5ECF6\", \"radialaxis\": {\"gridcolor\": \"white\", \"linecolor\": \"white\", \"ticks\": \"\"}}, \"scene\": {\"xaxis\": {\"backgroundcolor\": \"#E5ECF6\", \"gridcolor\": \"white\", \"gridwidth\": 2, \"linecolor\": \"white\", \"showbackground\": true, \"ticks\": \"\", \"zerolinecolor\": \"white\"}, \"yaxis\": {\"backgroundcolor\": \"#E5ECF6\", \"gridcolor\": \"white\", \"gridwidth\": 2, \"linecolor\": \"white\", \"showbackground\": true, \"ticks\": \"\", \"zerolinecolor\": \"white\"}, \"zaxis\": {\"backgroundcolor\": \"#E5ECF6\", \"gridcolor\": \"white\", \"gridwidth\": 2, \"linecolor\": \"white\", \"showbackground\": true, \"ticks\": \"\", \"zerolinecolor\": \"white\"}}, \"shapedefaults\": {\"line\": {\"color\": \"#2a3f5f\"}}, \"ternary\": {\"aaxis\": {\"gridcolor\": \"white\", \"linecolor\": \"white\", \"ticks\": \"\"}, \"baxis\": {\"gridcolor\": \"white\", \"linecolor\": \"white\", \"ticks\": \"\"}, \"bgcolor\": \"#E5ECF6\", \"caxis\": {\"gridcolor\": \"white\", \"linecolor\": \"white\", \"ticks\": \"\"}}, \"title\": {\"x\": 0.05}, \"xaxis\": {\"automargin\": true, \"gridcolor\": \"white\", \"linecolor\": \"white\", \"ticks\": \"\", \"title\": {\"standoff\": 15}, \"zerolinecolor\": \"white\", \"zerolinewidth\": 2}, \"yaxis\": {\"automargin\": true, \"gridcolor\": \"white\", \"linecolor\": \"white\", \"ticks\": \"\", \"title\": {\"standoff\": 15}, \"zerolinecolor\": \"white\", \"zerolinewidth\": 2}}}, \"title\": {\"font\": {\"size\": 28}, \"text\": \"Life expectancy\", \"x\": 0.5, \"xanchor\": \"center\"}, \"updatemenus\": [{\"buttons\": [{\"args\": [null, {\"frame\": {\"duration\": 1000, \"redraw\": true}, \"transition\": {\"duration\": 250, \"easing\": \"linear\"}}], \"label\": \"Play\", \"method\": \"animate\"}], \"type\": \"buttons\"}], \"xaxis\": {\"autorange\": false, \"range\": [0, 60], \"title\": {\"font\": {\"size\": 18}, \"text\": \"Life expectancy\"}}, \"yaxis\": {\"autorange\": false, \"range\": [-0.5, 5.5], \"tickfont\": {\"size\": 14}}},                        {\"responsive\": true}                    ).then(function(){\n",
              "                            Plotly.addFrames('7a00bfa1-6d71-4b5c-9dde-328fa8689148', [{\"data\": [{\"marker\": {\"color\": [\"#F4E400\", \"#FCD116\", \"#D91023\", \"#cf142b\", \"#034ea3\", \"#74ACDF\", \"#009c3b\", \"#0038a8\", \"#0039a6\", \"#d62b1e\"]}, \"orientation\": \"h\", \"text\": [62.6, 71.4, 71.4, 72.5, 72.8, 74.1, 75.0, 75.1, 77.3, 79.0], \"x\": [62.6, 71.4, 71.4, 72.5, 72.8, 74.1, 75.0, 75.1, 77.3, 79.0], \"y\": [\"Bolivia (Plurinational State of)\", \"Colombia\", \"Peru\", \"Venezuela (Bolivarian Republic of)\", \"Ecuador\", \"Argentina\", \"Brazil\", \"Uruguay\", \"Chile\", \"Paraguay\"], \"type\": \"bar\"}], \"layout\": {\"title\": {\"font\": {\"size\": 28}, \"text\": \"Life expectancy in South America in 2000\"}, \"xaxis\": {\"autorange\": false, \"range\": [0, 90]}, \"yaxis\": {\"autorange\": false, \"range\": [-0.5, 10], \"tickfont\": {\"size\": 14}}}}, {\"data\": [{\"marker\": {\"color\": [\"#F4E400\", \"#009c3b\", \"#d62b1e\", \"#FCD116\", \"#D91023\", \"#cf142b\", \"#034ea3\", \"#74ACDF\", \"#0038a8\", \"#0039a6\"]}, \"orientation\": \"h\", \"text\": [63.3, 71.0, 71.2, 71.5, 72.4, 72.5, 73.4, 74.0, 75.2, 77.3], \"x\": [63.3, 71.0, 71.2, 71.5, 72.4, 72.5, 73.4, 74.0, 75.2, 77.3], \"y\": [\"Bolivia (Plurinational State of)\", \"Brazil\", \"Paraguay\", \"Colombia\", \"Peru\", \"Venezuela (Bolivarian Republic of)\", \"Ecuador\", \"Argentina\", \"Uruguay\", \"Chile\"], \"type\": \"bar\"}], \"layout\": {\"title\": {\"font\": {\"size\": 28}, \"text\": \"Life expectancy in South America in 2001\"}, \"xaxis\": {\"autorange\": false, \"range\": [0, 90]}, \"yaxis\": {\"autorange\": false, \"range\": [-0.5, 10], \"tickfont\": {\"size\": 14}}}}, {\"data\": [{\"marker\": {\"color\": [\"#F4E400\", \"#009c3b\", \"#d62b1e\", \"#FCD116\", \"#D91023\", \"#cf142b\", \"#034ea3\", \"#74ACDF\", \"#0038a8\", \"#0039a6\"]}, \"orientation\": \"h\", \"text\": [63.9, 71.4, 71.5, 71.8, 72.6, 73.1, 73.6, 74.1, 75.4, 77.8], \"x\": [63.9, 71.4, 71.5, 71.8, 72.6, 73.1, 73.6, 74.1, 75.4, 77.8], \"y\": [\"Bolivia (Plurinational State of)\", \"Brazil\", \"Paraguay\", \"Colombia\", \"Peru\", \"Venezuela (Bolivarian Republic of)\", \"Ecuador\", \"Argentina\", \"Uruguay\", \"Chile\"], \"type\": \"bar\"}], \"layout\": {\"title\": {\"font\": {\"size\": 28}, \"text\": \"Life expectancy in South America in 2002\"}, \"xaxis\": {\"autorange\": false, \"range\": [0, 90]}, \"yaxis\": {\"autorange\": false, \"range\": [-0.5, 10], \"tickfont\": {\"size\": 14}}}}, {\"data\": [{\"marker\": {\"color\": [\"#F4E400\", \"#d62b1e\", \"#009c3b\", \"#D91023\", \"#FCD116\", \"#cf142b\", \"#74ACDF\", \"#034ea3\", \"#0038a8\", \"#0039a6\"]}, \"orientation\": \"h\", \"text\": [64.5, 71.7, 71.8, 72.1, 72.4, 72.4, 74.1, 74.4, 75.4, 77.9], \"x\": [64.5, 71.7, 71.8, 72.1, 72.4, 72.4, 74.1, 74.4, 75.4, 77.9], \"y\": [\"Bolivia (Plurinational State of)\", \"Paraguay\", \"Brazil\", \"Peru\", \"Colombia\", \"Venezuela (Bolivarian Republic of)\", \"Argentina\", \"Ecuador\", \"Uruguay\", \"Chile\"], \"type\": \"bar\"}], \"layout\": {\"title\": {\"font\": {\"size\": 28}, \"text\": \"Life expectancy in South America in 2003\"}, \"xaxis\": {\"autorange\": false, \"range\": [0, 90]}, \"yaxis\": {\"autorange\": false, \"range\": [-0.5, 10], \"tickfont\": {\"size\": 14}}}}, {\"data\": [{\"marker\": {\"color\": [\"#F4E400\", \"#d62b1e\", \"#009c3b\", \"#D91023\", \"#FCD116\", \"#cf142b\", \"#034ea3\", \"#74ACDF\", \"#0038a8\", \"#0039a6\"]}, \"orientation\": \"h\", \"text\": [65.1, 71.9, 72.0, 72.2, 72.8, 73.3, 74.4, 74.7, 75.4, 78.0], \"x\": [65.1, 71.9, 72.0, 72.2, 72.8, 73.3, 74.4, 74.7, 75.4, 78.0], \"y\": [\"Bolivia (Plurinational State of)\", \"Paraguay\", \"Brazil\", \"Peru\", \"Colombia\", \"Venezuela (Bolivarian Republic of)\", \"Ecuador\", \"Argentina\", \"Uruguay\", \"Chile\"], \"type\": \"bar\"}], \"layout\": {\"title\": {\"font\": {\"size\": 28}, \"text\": \"Life expectancy in South America in 2004\"}, \"xaxis\": {\"autorange\": false, \"range\": [0, 90]}, \"yaxis\": {\"autorange\": false, \"range\": [-0.5, 10], \"tickfont\": {\"size\": 14}}}}, {\"data\": [{\"marker\": {\"color\": [\"#F4E400\", \"#d62b1e\", \"#009c3b\", \"#D91023\", \"#FCD116\", \"#cf142b\", \"#034ea3\", \"#74ACDF\", \"#0038a8\", \"#0039a6\"]}, \"orientation\": \"h\", \"text\": [65.7, 72.1, 72.7, 72.8, 73.1, 73.6, 74.2, 74.9, 75.7, 78.4], \"x\": [65.7, 72.1, 72.7, 72.8, 73.1, 73.6, 74.2, 74.9, 75.7, 78.4], \"y\": [\"Bolivia (Plurinational State of)\", \"Paraguay\", \"Brazil\", \"Peru\", \"Colombia\", \"Venezuela (Bolivarian Republic of)\", \"Ecuador\", \"Argentina\", \"Uruguay\", \"Chile\"], \"type\": \"bar\"}], \"layout\": {\"title\": {\"font\": {\"size\": 28}, \"text\": \"Life expectancy in South America in 2005\"}, \"xaxis\": {\"autorange\": false, \"range\": [0, 90]}, \"yaxis\": {\"autorange\": false, \"range\": [-0.5, 10], \"tickfont\": {\"size\": 14}}}}, {\"data\": [{\"marker\": {\"color\": [\"#F4E400\", \"#d62b1e\", \"#009c3b\", \"#FCD116\", \"#cf142b\", \"#D91023\", \"#034ea3\", \"#74ACDF\", \"#0038a8\", \"#0039a6\"]}, \"orientation\": \"h\", \"text\": [66.2, 72.3, 73.0, 73.1, 73.6, 74.2, 74.4, 75.2, 76.2, 78.9], \"x\": [66.2, 72.3, 73.0, 73.1, 73.6, 74.2, 74.4, 75.2, 76.2, 78.9], \"y\": [\"Bolivia (Plurinational State of)\", \"Paraguay\", \"Brazil\", \"Colombia\", \"Venezuela (Bolivarian Republic of)\", \"Peru\", \"Ecuador\", \"Argentina\", \"Uruguay\", \"Chile\"], \"type\": \"bar\"}], \"layout\": {\"title\": {\"font\": {\"size\": 28}, \"text\": \"Life expectancy in South America in 2006\"}, \"xaxis\": {\"autorange\": false, \"range\": [0, 90]}, \"yaxis\": {\"autorange\": false, \"range\": [-0.5, 10], \"tickfont\": {\"size\": 14}}}}, {\"data\": [{\"marker\": {\"color\": [\"#F4E400\", \"#d62b1e\", \"#009c3b\", \"#cf142b\", \"#FCD116\", \"#D91023\", \"#034ea3\", \"#74ACDF\", \"#0038a8\", \"#0039a6\"]}, \"orientation\": \"h\", \"text\": [66.8, 72.5, 73.3, 73.4, 73.5, 74.0, 74.7, 74.8, 75.4, 78.9], \"x\": [66.8, 72.5, 73.3, 73.4, 73.5, 74.0, 74.7, 74.8, 75.4, 78.9], \"y\": [\"Bolivia (Plurinational State of)\", \"Paraguay\", \"Brazil\", \"Venezuela (Bolivarian Republic of)\", \"Colombia\", \"Peru\", \"Ecuador\", \"Argentina\", \"Uruguay\", \"Chile\"], \"type\": \"bar\"}], \"layout\": {\"title\": {\"font\": {\"size\": 28}, \"text\": \"Life expectancy in South America in 2007\"}, \"xaxis\": {\"autorange\": false, \"range\": [0, 90]}, \"yaxis\": {\"autorange\": false, \"range\": [-0.5, 10], \"tickfont\": {\"size\": 14}}}}, {\"data\": [{\"marker\": {\"color\": [\"#F4E400\", \"#d62b1e\", \"#cf142b\", \"#009c3b\", \"#FCD116\", \"#D91023\", \"#034ea3\", \"#74ACDF\", \"#0038a8\", \"#0039a6\"]}, \"orientation\": \"h\", \"text\": [67.4, 72.7, 73.2, 73.4, 73.5, 73.9, 74.6, 75.4, 76.4, 79.6], \"x\": [67.4, 72.7, 73.2, 73.4, 73.5, 73.9, 74.6, 75.4, 76.4, 79.6], \"y\": [\"Bolivia (Plurinational State of)\", \"Paraguay\", \"Venezuela (Bolivarian Republic of)\", \"Brazil\", \"Colombia\", \"Peru\", \"Ecuador\", \"Argentina\", \"Uruguay\", \"Chile\"], \"type\": \"bar\"}], \"layout\": {\"title\": {\"font\": {\"size\": 28}, \"text\": \"Life expectancy in South America in 2008\"}, \"xaxis\": {\"autorange\": false, \"range\": [0, 90]}, \"yaxis\": {\"autorange\": false, \"range\": [-0.5, 10], \"tickfont\": {\"size\": 14}}}}, {\"data\": [{\"marker\": {\"color\": [\"#F4E400\", \"#d62b1e\", \"#009c3b\", \"#FCD116\", \"#cf142b\", \"#D91023\", \"#034ea3\", \"#74ACDF\", \"#0038a8\", \"#0039a6\"]}, \"orientation\": \"h\", \"text\": [68.0, 73.0, 73.6, 73.6, 73.6, 73.8, 75.1, 75.6, 76.6, 79.3], \"x\": [68.0, 73.0, 73.6, 73.6, 73.6, 73.8, 75.1, 75.6, 76.6, 79.3], \"y\": [\"Bolivia (Plurinational State of)\", \"Paraguay\", \"Brazil\", \"Colombia\", \"Venezuela (Bolivarian Republic of)\", \"Peru\", \"Ecuador\", \"Argentina\", \"Uruguay\", \"Chile\"], \"type\": \"bar\"}], \"layout\": {\"title\": {\"font\": {\"size\": 28}, \"text\": \"Life expectancy in South America in 2009\"}, \"xaxis\": {\"autorange\": false, \"range\": [0, 90]}, \"yaxis\": {\"autorange\": false, \"range\": [-0.5, 10], \"tickfont\": {\"size\": 14}}}}, {\"data\": [{\"marker\": {\"color\": [\"#F4E400\", \"#d62b1e\", \"#FCD116\", \"#D91023\", \"#cf142b\", \"#009c3b\", \"#034ea3\", \"#74ACDF\", \"#0038a8\", \"#0039a6\"]}, \"orientation\": \"h\", \"text\": [68.7, 73.2, 73.6, 73.7, 73.7, 73.8, 75.0, 75.5, 76.3, 79.1], \"x\": [68.7, 73.2, 73.6, 73.7, 73.7, 73.8, 75.0, 75.5, 76.3, 79.1], \"y\": [\"Bolivia (Plurinational State of)\", \"Paraguay\", \"Colombia\", \"Peru\", \"Venezuela (Bolivarian Republic of)\", \"Brazil\", \"Ecuador\", \"Argentina\", \"Uruguay\", \"Chile\"], \"type\": \"bar\"}], \"layout\": {\"title\": {\"font\": {\"size\": 28}, \"text\": \"Life expectancy in South America in 2010\"}, \"xaxis\": {\"autorange\": false, \"range\": [0, 90]}, \"yaxis\": {\"autorange\": false, \"range\": [-0.5, 10], \"tickfont\": {\"size\": 14}}}}, {\"data\": [{\"marker\": {\"color\": [\"#F4E400\", \"#d62b1e\", \"#cf142b\", \"#009c3b\", \"#FCD116\", \"#D91023\", \"#034ea3\", \"#74ACDF\", \"#0038a8\", \"#0039a6\"]}, \"orientation\": \"h\", \"text\": [69.3, 73.4, 73.8, 74.1, 74.2, 74.5, 75.3, 75.7, 77.0, 79.8], \"x\": [69.3, 73.4, 73.8, 74.1, 74.2, 74.5, 75.3, 75.7, 77.0, 79.8], \"y\": [\"Bolivia (Plurinational State of)\", \"Paraguay\", \"Venezuela (Bolivarian Republic of)\", \"Brazil\", \"Colombia\", \"Peru\", \"Ecuador\", \"Argentina\", \"Uruguay\", \"Chile\"], \"type\": \"bar\"}], \"layout\": {\"title\": {\"font\": {\"size\": 28}, \"text\": \"Life expectancy in South America in 2011\"}, \"xaxis\": {\"autorange\": false, \"range\": [0, 90]}, \"yaxis\": {\"autorange\": false, \"range\": [-0.5, 10], \"tickfont\": {\"size\": 14}}}}, {\"data\": [{\"marker\": {\"color\": [\"#F4E400\", \"#d62b1e\", \"#cf142b\", \"#FCD116\", \"#009c3b\", \"#D91023\", \"#034ea3\", \"#74ACDF\", \"#0038a8\", \"#0039a6\"]}, \"orientation\": \"h\", \"text\": [69.8, 73.6, 73.7, 74.3, 74.5, 74.9, 75.5, 75.9, 76.5, 79.9], \"x\": [69.8, 73.6, 73.7, 74.3, 74.5, 74.9, 75.5, 75.9, 76.5, 79.9], \"y\": [\"Bolivia (Plurinational State of)\", \"Paraguay\", \"Venezuela (Bolivarian Republic of)\", \"Colombia\", \"Brazil\", \"Peru\", \"Ecuador\", \"Argentina\", \"Uruguay\", \"Chile\"], \"type\": \"bar\"}], \"layout\": {\"title\": {\"font\": {\"size\": 28}, \"text\": \"Life expectancy in South America in 2012\"}, \"xaxis\": {\"autorange\": false, \"range\": [0, 90]}, \"yaxis\": {\"autorange\": false, \"range\": [-0.5, 10], \"tickfont\": {\"size\": 14}}}}, {\"data\": [{\"marker\": {\"color\": [\"#F4E400\", \"#d62b1e\", \"#cf142b\", \"#FCD116\", \"#009c3b\", \"#D91023\", \"#74ACDF\", \"#034ea3\", \"#0038a8\", \"#0039a6\"]}, \"orientation\": \"h\", \"text\": [71.0, 73.8, 73.8, 74.4, 74.7, 75.3, 76.0, 76.0, 76.8, 81.0], \"x\": [71.0, 73.8, 73.8, 74.4, 74.7, 75.3, 76.0, 76.0, 76.8, 81.0], \"y\": [\"Bolivia (Plurinational State of)\", \"Paraguay\", \"Venezuela (Bolivarian Republic of)\", \"Colombia\", \"Brazil\", \"Peru\", \"Argentina\", \"Ecuador\", \"Uruguay\", \"Chile\"], \"type\": \"bar\"}], \"layout\": {\"title\": {\"font\": {\"size\": 28}, \"text\": \"Life expectancy in South America in 2013\"}, \"xaxis\": {\"autorange\": false, \"range\": [0, 90]}, \"yaxis\": {\"autorange\": false, \"range\": [-0.5, 10], \"tickfont\": {\"size\": 14}}}}, {\"data\": [{\"marker\": {\"color\": [\"#d62b1e\", \"#cf142b\", \"#F4E400\", \"#FCD116\", \"#009c3b\", \"#D91023\", \"#034ea3\", \"#74ACDF\", \"#0038a8\", \"#0039a6\"]}, \"orientation\": \"h\", \"text\": [73.9, 73.9, 74.0, 74.6, 74.8, 75.3, 76.0, 76.2, 76.8, 83.0], \"x\": [73.9, 73.9, 74.0, 74.6, 74.8, 75.3, 76.0, 76.2, 76.8, 83.0], \"y\": [\"Paraguay\", \"Venezuela (Bolivarian Republic of)\", \"Bolivia (Plurinational State of)\", \"Colombia\", \"Brazil\", \"Peru\", \"Ecuador\", \"Argentina\", \"Uruguay\", \"Chile\"], \"type\": \"bar\"}], \"layout\": {\"title\": {\"font\": {\"size\": 28}, \"text\": \"Life expectancy in South America in 2014\"}, \"xaxis\": {\"autorange\": false, \"range\": [0, 90]}, \"yaxis\": {\"autorange\": false, \"range\": [-0.5, 10], \"tickfont\": {\"size\": 14}}}}, {\"data\": [{\"marker\": {\"color\": [\"#d62b1e\", \"#cf142b\", \"#FCD116\", \"#009c3b\", \"#D91023\", \"#034ea3\", \"#74ACDF\", \"#F4E400\", \"#0038a8\", \"#0039a6\"]}, \"orientation\": \"h\", \"text\": [74.0, 74.1, 74.8, 75.0, 75.5, 76.2, 76.3, 77.0, 77.0, 85.0], \"x\": [74.0, 74.1, 74.8, 75.0, 75.5, 76.2, 76.3, 77.0, 77.0, 85.0], \"y\": [\"Paraguay\", \"Venezuela (Bolivarian Republic of)\", \"Colombia\", \"Brazil\", \"Peru\", \"Ecuador\", \"Argentina\", \"Bolivia (Plurinational State of)\", \"Uruguay\", \"Chile\"], \"type\": \"bar\"}], \"layout\": {\"title\": {\"font\": {\"size\": 28}, \"text\": \"Life expectancy in South America in 2015\"}, \"xaxis\": {\"autorange\": false, \"range\": [0, 90]}, \"yaxis\": {\"autorange\": false, \"range\": [-0.5, 10], \"tickfont\": {\"size\": 14}}}}]);\n",
              "                        }).then(function(){\n",
              "                            \n",
              "var gd = document.getElementById('7a00bfa1-6d71-4b5c-9dde-328fa8689148');\n",
              "var x = new MutationObserver(function (mutations, observer) {{\n",
              "        var display = window.getComputedStyle(gd).display;\n",
              "        if (!display || display === 'none') {{\n",
              "            console.log([gd, 'removed!']);\n",
              "            Plotly.purge(gd);\n",
              "            observer.disconnect();\n",
              "        }}\n",
              "}});\n",
              "\n",
              "// Listen for the removal of the full notebook cells\n",
              "var notebookContainer = gd.closest('#notebook-container');\n",
              "if (notebookContainer) {{\n",
              "    x.observe(notebookContainer, {childList: true});\n",
              "}}\n",
              "\n",
              "// Listen for the clearing of the current output cell\n",
              "var outputEl = gd.closest('.output');\n",
              "if (outputEl) {{\n",
              "    x.observe(outputEl, {childList: true});\n",
              "}}\n",
              "\n",
              "                        })                };                });            </script>        </div>"
            ]
          },
          "metadata": {
            "tags": []
          }
        }
      ]
    }
  ]
}