{
  "nbformat": 4,
  "nbformat_minor": 0,
  "metadata": {
    "kernelspec": {
      "display_name": "Python 3",
      "language": "python",
      "name": "python3"
    },
    "language_info": {
      "codemirror_mode": {
        "name": "ipython",
        "version": 3
      },
      "file_extension": ".py",
      "mimetype": "text/x-python",
      "name": "python",
      "nbconvert_exporter": "python",
      "pygments_lexer": "ipython3",
      "version": "3.7.9"
    },
    "colab": {
      "name": "crime_bar.ipynb",
      "provenance": [],
      "include_colab_link": true
    }
  },
  "cells": [
    {
      "cell_type": "markdown",
      "metadata": {
        "id": "view-in-github",
        "colab_type": "text"
      },
      "source": [
        "<a href=\"https://colab.research.google.com/github/PPythnoni/plotly_dash/blob/main/crime_bar.ipynb\" target=\"_parent\"><img src=\"https://colab.research.google.com/assets/colab-badge.svg\" alt=\"Open In Colab\"/></a>"
      ]
    },
    {
      "cell_type": "code",
      "metadata": {
        "id": "OZs_Fil8UW5N"
      },
      "source": [
        "import dash_core_components as dcc\n",
        "import dash_html_components as html\n",
        "from dash.dependencies import Input, Output\n",
        "import plotly.graph_objs as go\n",
        "import pandas as pd\n",
        "import plotly.express as px\n",
        "import dash\n",
        "\n",
        "df = pd.read_csv(\"reported.csv\")\n",
        "\n",
        "df.drop(columns=[\"house.theft\",\"vehicle.theft\",\"out.of.vehicle.theft\",\"shop.theft\",\"narcotics\"],inplace=True)\n",
        "\n",
        "app = dash.Dash(__name__)\n",
        "\n",
        "app.layout = html.Div([\n",
        "\n",
        "        html.Div([\n",
        "            html.Pre(children= \"Crime in Sweden 1950-2015\",\n",
        "            style={\"text-align\": \"center\", \"font-size\":\"100%\", \"color\":\"black\"})\n",
        "        ]),\n",
        "\n",
        "\n",
        "        html.Div([\n",
        "            html.Br(),\n",
        "            html.Label(['Categories:'], style={'font-weight': 'bold'}),\n",
        "            dcc.RadioItems(\n",
        "                id='yaxis_raditem',\n",
        "                options=[\n",
        "                         {'label': 'Crimes total', 'value': 'crimes.total'},\n",
        "                         {'label': 'Assault', 'value': 'assault'},\n",
        "                        {'label': 'Murder', 'value': 'murder'},\n",
        "                        {'label': 'Sexual offenses', 'value': 'sexual.offenses'},\n",
        "                        {'label': 'Rape', 'value': 'rape'},\n",
        "                        {'label': 'Stealing general', 'value': 'stealing.general'}, \n",
        "                        {'label': 'Burglary', 'value': 'burglary'}\n",
        "                    \n",
        "                ],\n",
        "                value='crimes.total', #default value\n",
        "                style={\"width\": \"50%\"}\n",
        "            ),\n",
        "        ]),\n",
        "\n",
        "    html.Div([\n",
        "        dcc.Graph(id='the_graph')\n",
        "    ]),\n",
        "\n",
        "])\n",
        "\n",
        "\n",
        "@app.callback(\n",
        "    Output(component_id='the_graph', component_property='figure'),# output sent to the graph\n",
        "    [Input(component_id='yaxis_raditem', component_property='value')]\n",
        ")\n",
        "\n",
        "def update_graph(y_axis):\n",
        "\n",
        "    dff = df\n",
        "\n",
        "    barchart=px.bar(\n",
        "            data_frame=dff,\n",
        "            x=dff[\"Year\"], # connects to the first item in callback input - xaxis_raditem (apprarently connected by order)\n",
        "            y=y_axis, # connects to the second item in callback input - yaxis_raditem\n",
        "            color = y_axis\n",
        "            )\n",
        "\n",
        "    barchart.update_layout(xaxis={'categoryorder':'total ascending'},\n",
        "                           title={'xanchor':'center', 'yanchor': 'top', 'y':0.9,'x':0.5,})\n",
        "\n",
        "    return (barchart)\n",
        "\n",
        "if __name__ == '__main__':\n",
        "    app.run_server()"
      ],
      "execution_count": null,
      "outputs": []
    },
    {
      "cell_type": "code",
      "metadata": {
        "id": "0pnfSUe3UW5e"
      },
      "source": [
        ""
      ],
      "execution_count": null,
      "outputs": []
    },
    {
      "cell_type": "code",
      "metadata": {
        "id": "GdSqavRDUW5f"
      },
      "source": [
        ""
      ],
      "execution_count": null,
      "outputs": []
    }
  ]
}